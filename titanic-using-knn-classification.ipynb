{
 "cells": [
  {
   "cell_type": "code",
   "execution_count": 1,
   "metadata": {
    "_cell_guid": "b1076dfc-b9ad-4769-8c92-a6c4dae69d19",
    "_uuid": "8f2839f25d086af736a60e9eeb907d3b93b6e0e5",
    "execution": {
     "iopub.execute_input": "2020-12-22T09:32:45.852800Z",
     "iopub.status.busy": "2020-12-22T09:32:45.851956Z",
     "iopub.status.idle": "2020-12-22T09:32:45.856903Z",
     "shell.execute_reply": "2020-12-22T09:32:45.857521Z"
    },
    "papermill": {
     "duration": 0.036253,
     "end_time": "2020-12-22T09:32:45.857697",
     "exception": false,
     "start_time": "2020-12-22T09:32:45.821444",
     "status": "completed"
    },
    "tags": []
   },
   "outputs": [
    {
     "name": "stdout",
     "output_type": "stream",
     "text": [
      "/kaggle/input/titanic/train.csv\n",
      "/kaggle/input/titanic/test.csv\n",
      "/kaggle/input/titanic/gender_submission.csv\n"
     ]
    }
   ],
   "source": [
    "# This Python 3 environment comes with many helpful analytics libraries installed\n",
    "# It is defined by the kaggle/python Docker image: https://github.com/kaggle/docker-python\n",
    "# For example, here's several helpful packages to load\n",
    "\n",
    "import numpy as np # linear algebra\n",
    "import pandas as pd # data processing, CSV file I/O (e.g. pd.read_csv)\n",
    "\n",
    "# Input data files are available in the read-only \"../input/\" directory\n",
    "# For example, running this (by clicking run or pressing Shift+Enter) will list all files under the input directory\n",
    "\n",
    "import os\n",
    "for dirname, _, filenames in os.walk('/kaggle/input'):\n",
    "    for filename in filenames:\n",
    "        print(os.path.join(dirname, filename))\n",
    "\n",
    "# You can write up to 20GB to the current directory (/kaggle/working/) that gets preserved as output when you create a version using \"Save & Run All\" \n",
    "# You can also write temporary files to /kaggle/temp/, but they won't be saved outside of the current session"
   ]
  },
  {
   "cell_type": "code",
   "execution_count": 2,
   "metadata": {
    "execution": {
     "iopub.execute_input": "2020-12-22T09:32:45.910572Z",
     "iopub.status.busy": "2020-12-22T09:32:45.909882Z",
     "iopub.status.idle": "2020-12-22T09:32:46.849755Z",
     "shell.execute_reply": "2020-12-22T09:32:46.849035Z"
    },
    "papermill": {
     "duration": 0.967775,
     "end_time": "2020-12-22T09:32:46.849911",
     "exception": false,
     "start_time": "2020-12-22T09:32:45.882136",
     "status": "completed"
    },
    "tags": []
   },
   "outputs": [],
   "source": [
    "import seaborn as sns\n",
    "import matplotlib.pyplot as plt"
   ]
  },
  {
   "cell_type": "code",
   "execution_count": 3,
   "metadata": {
    "_cell_guid": "79c7e3d0-c299-4dcb-8224-4455121ee9b0",
    "_uuid": "d629ff2d2480ee46fbb7e2d37f6b5fab8052498a",
    "execution": {
     "iopub.execute_input": "2020-12-22T09:32:46.904678Z",
     "iopub.status.busy": "2020-12-22T09:32:46.904017Z",
     "iopub.status.idle": "2020-12-22T09:32:46.920821Z",
     "shell.execute_reply": "2020-12-22T09:32:46.920121Z"
    },
    "papermill": {
     "duration": 0.047258,
     "end_time": "2020-12-22T09:32:46.920948",
     "exception": false,
     "start_time": "2020-12-22T09:32:46.873690",
     "status": "completed"
    },
    "tags": []
   },
   "outputs": [],
   "source": [
    "df = pd.read_csv('/kaggle/input/titanic/train.csv')"
   ]
  },
  {
   "cell_type": "code",
   "execution_count": 4,
   "metadata": {
    "execution": {
     "iopub.execute_input": "2020-12-22T09:32:46.973505Z",
     "iopub.status.busy": "2020-12-22T09:32:46.972736Z",
     "iopub.status.idle": "2020-12-22T09:32:46.987789Z",
     "shell.execute_reply": "2020-12-22T09:32:46.988336Z"
    },
    "papermill": {
     "duration": 0.043888,
     "end_time": "2020-12-22T09:32:46.988481",
     "exception": false,
     "start_time": "2020-12-22T09:32:46.944593",
     "status": "completed"
    },
    "tags": []
   },
   "outputs": [
    {
     "data": {
      "text/plain": [
       "PassengerId      0\n",
       "Survived         0\n",
       "Pclass           0\n",
       "Name             0\n",
       "Sex              0\n",
       "Age            177\n",
       "SibSp            0\n",
       "Parch            0\n",
       "Ticket           0\n",
       "Fare             0\n",
       "Cabin          687\n",
       "Embarked         2\n",
       "dtype: int64"
      ]
     },
     "execution_count": 4,
     "metadata": {},
     "output_type": "execute_result"
    }
   ],
   "source": [
    "df.isnull().sum()"
   ]
  },
  {
   "cell_type": "code",
   "execution_count": 5,
   "metadata": {
    "execution": {
     "iopub.execute_input": "2020-12-22T09:32:47.045679Z",
     "iopub.status.busy": "2020-12-22T09:32:47.045040Z",
     "iopub.status.idle": "2020-12-22T09:32:47.047859Z",
     "shell.execute_reply": "2020-12-22T09:32:47.047174Z"
    },
    "papermill": {
     "duration": 0.0353,
     "end_time": "2020-12-22T09:32:47.047972",
     "exception": false,
     "start_time": "2020-12-22T09:32:47.012672",
     "status": "completed"
    },
    "tags": []
   },
   "outputs": [],
   "source": [
    "df['Age'] = df['Age'].transform(lambda val: val.fillna(val.mean()))"
   ]
  },
  {
   "cell_type": "code",
   "execution_count": 6,
   "metadata": {
    "execution": {
     "iopub.execute_input": "2020-12-22T09:32:47.099659Z",
     "iopub.status.busy": "2020-12-22T09:32:47.099052Z",
     "iopub.status.idle": "2020-12-22T09:32:47.106320Z",
     "shell.execute_reply": "2020-12-22T09:32:47.106902Z"
    },
    "papermill": {
     "duration": 0.034554,
     "end_time": "2020-12-22T09:32:47.107036",
     "exception": false,
     "start_time": "2020-12-22T09:32:47.072482",
     "status": "completed"
    },
    "tags": []
   },
   "outputs": [
    {
     "data": {
      "text/plain": [
       "PassengerId      0\n",
       "Survived         0\n",
       "Pclass           0\n",
       "Name             0\n",
       "Sex              0\n",
       "Age              0\n",
       "SibSp            0\n",
       "Parch            0\n",
       "Ticket           0\n",
       "Fare             0\n",
       "Cabin          687\n",
       "Embarked         2\n",
       "dtype: int64"
      ]
     },
     "execution_count": 6,
     "metadata": {},
     "output_type": "execute_result"
    }
   ],
   "source": [
    "df.isnull().sum()"
   ]
  },
  {
   "cell_type": "code",
   "execution_count": 7,
   "metadata": {
    "execution": {
     "iopub.execute_input": "2020-12-22T09:32:47.165958Z",
     "iopub.status.busy": "2020-12-22T09:32:47.163448Z",
     "iopub.status.idle": "2020-12-22T09:32:47.169264Z",
     "shell.execute_reply": "2020-12-22T09:32:47.168583Z"
    },
    "papermill": {
     "duration": 0.03766,
     "end_time": "2020-12-22T09:32:47.169380",
     "exception": false,
     "start_time": "2020-12-22T09:32:47.131720",
     "status": "completed"
    },
    "tags": []
   },
   "outputs": [],
   "source": [
    "df['Sex'] = df['Sex'].map({'male': 0, 'female': 1})\n",
    "df = df.fillna(0)"
   ]
  },
  {
   "cell_type": "code",
   "execution_count": 8,
   "metadata": {
    "execution": {
     "iopub.execute_input": "2020-12-22T09:32:47.229135Z",
     "iopub.status.busy": "2020-12-22T09:32:47.228103Z",
     "iopub.status.idle": "2020-12-22T09:32:47.255382Z",
     "shell.execute_reply": "2020-12-22T09:32:47.255833Z"
    },
    "papermill": {
     "duration": 0.061899,
     "end_time": "2020-12-22T09:32:47.255973",
     "exception": false,
     "start_time": "2020-12-22T09:32:47.194074",
     "status": "completed"
    },
    "tags": []
   },
   "outputs": [
    {
     "data": {
      "text/html": [
       "<div>\n",
       "<style scoped>\n",
       "    .dataframe tbody tr th:only-of-type {\n",
       "        vertical-align: middle;\n",
       "    }\n",
       "\n",
       "    .dataframe tbody tr th {\n",
       "        vertical-align: top;\n",
       "    }\n",
       "\n",
       "    .dataframe thead th {\n",
       "        text-align: right;\n",
       "    }\n",
       "</style>\n",
       "<table border=\"1\" class=\"dataframe\">\n",
       "  <thead>\n",
       "    <tr style=\"text-align: right;\">\n",
       "      <th></th>\n",
       "      <th>PassengerId</th>\n",
       "      <th>Survived</th>\n",
       "      <th>Pclass</th>\n",
       "      <th>Name</th>\n",
       "      <th>Sex</th>\n",
       "      <th>Age</th>\n",
       "      <th>SibSp</th>\n",
       "      <th>Parch</th>\n",
       "      <th>Ticket</th>\n",
       "      <th>Fare</th>\n",
       "      <th>Cabin</th>\n",
       "      <th>Embarked</th>\n",
       "    </tr>\n",
       "  </thead>\n",
       "  <tbody>\n",
       "    <tr>\n",
       "      <th>0</th>\n",
       "      <td>1</td>\n",
       "      <td>0</td>\n",
       "      <td>3</td>\n",
       "      <td>Braund, Mr. Owen Harris</td>\n",
       "      <td>0</td>\n",
       "      <td>22.000000</td>\n",
       "      <td>1</td>\n",
       "      <td>0</td>\n",
       "      <td>A/5 21171</td>\n",
       "      <td>7.2500</td>\n",
       "      <td>0</td>\n",
       "      <td>S</td>\n",
       "    </tr>\n",
       "    <tr>\n",
       "      <th>1</th>\n",
       "      <td>2</td>\n",
       "      <td>1</td>\n",
       "      <td>1</td>\n",
       "      <td>Cumings, Mrs. John Bradley (Florence Briggs Th...</td>\n",
       "      <td>1</td>\n",
       "      <td>38.000000</td>\n",
       "      <td>1</td>\n",
       "      <td>0</td>\n",
       "      <td>PC 17599</td>\n",
       "      <td>71.2833</td>\n",
       "      <td>C85</td>\n",
       "      <td>C</td>\n",
       "    </tr>\n",
       "    <tr>\n",
       "      <th>2</th>\n",
       "      <td>3</td>\n",
       "      <td>1</td>\n",
       "      <td>3</td>\n",
       "      <td>Heikkinen, Miss. Laina</td>\n",
       "      <td>1</td>\n",
       "      <td>26.000000</td>\n",
       "      <td>0</td>\n",
       "      <td>0</td>\n",
       "      <td>STON/O2. 3101282</td>\n",
       "      <td>7.9250</td>\n",
       "      <td>0</td>\n",
       "      <td>S</td>\n",
       "    </tr>\n",
       "    <tr>\n",
       "      <th>3</th>\n",
       "      <td>4</td>\n",
       "      <td>1</td>\n",
       "      <td>1</td>\n",
       "      <td>Futrelle, Mrs. Jacques Heath (Lily May Peel)</td>\n",
       "      <td>1</td>\n",
       "      <td>35.000000</td>\n",
       "      <td>1</td>\n",
       "      <td>0</td>\n",
       "      <td>113803</td>\n",
       "      <td>53.1000</td>\n",
       "      <td>C123</td>\n",
       "      <td>S</td>\n",
       "    </tr>\n",
       "    <tr>\n",
       "      <th>4</th>\n",
       "      <td>5</td>\n",
       "      <td>0</td>\n",
       "      <td>3</td>\n",
       "      <td>Allen, Mr. William Henry</td>\n",
       "      <td>0</td>\n",
       "      <td>35.000000</td>\n",
       "      <td>0</td>\n",
       "      <td>0</td>\n",
       "      <td>373450</td>\n",
       "      <td>8.0500</td>\n",
       "      <td>0</td>\n",
       "      <td>S</td>\n",
       "    </tr>\n",
       "    <tr>\n",
       "      <th>...</th>\n",
       "      <td>...</td>\n",
       "      <td>...</td>\n",
       "      <td>...</td>\n",
       "      <td>...</td>\n",
       "      <td>...</td>\n",
       "      <td>...</td>\n",
       "      <td>...</td>\n",
       "      <td>...</td>\n",
       "      <td>...</td>\n",
       "      <td>...</td>\n",
       "      <td>...</td>\n",
       "      <td>...</td>\n",
       "    </tr>\n",
       "    <tr>\n",
       "      <th>886</th>\n",
       "      <td>887</td>\n",
       "      <td>0</td>\n",
       "      <td>2</td>\n",
       "      <td>Montvila, Rev. Juozas</td>\n",
       "      <td>0</td>\n",
       "      <td>27.000000</td>\n",
       "      <td>0</td>\n",
       "      <td>0</td>\n",
       "      <td>211536</td>\n",
       "      <td>13.0000</td>\n",
       "      <td>0</td>\n",
       "      <td>S</td>\n",
       "    </tr>\n",
       "    <tr>\n",
       "      <th>887</th>\n",
       "      <td>888</td>\n",
       "      <td>1</td>\n",
       "      <td>1</td>\n",
       "      <td>Graham, Miss. Margaret Edith</td>\n",
       "      <td>1</td>\n",
       "      <td>19.000000</td>\n",
       "      <td>0</td>\n",
       "      <td>0</td>\n",
       "      <td>112053</td>\n",
       "      <td>30.0000</td>\n",
       "      <td>B42</td>\n",
       "      <td>S</td>\n",
       "    </tr>\n",
       "    <tr>\n",
       "      <th>888</th>\n",
       "      <td>889</td>\n",
       "      <td>0</td>\n",
       "      <td>3</td>\n",
       "      <td>Johnston, Miss. Catherine Helen \"Carrie\"</td>\n",
       "      <td>1</td>\n",
       "      <td>29.699118</td>\n",
       "      <td>1</td>\n",
       "      <td>2</td>\n",
       "      <td>W./C. 6607</td>\n",
       "      <td>23.4500</td>\n",
       "      <td>0</td>\n",
       "      <td>S</td>\n",
       "    </tr>\n",
       "    <tr>\n",
       "      <th>889</th>\n",
       "      <td>890</td>\n",
       "      <td>1</td>\n",
       "      <td>1</td>\n",
       "      <td>Behr, Mr. Karl Howell</td>\n",
       "      <td>0</td>\n",
       "      <td>26.000000</td>\n",
       "      <td>0</td>\n",
       "      <td>0</td>\n",
       "      <td>111369</td>\n",
       "      <td>30.0000</td>\n",
       "      <td>C148</td>\n",
       "      <td>C</td>\n",
       "    </tr>\n",
       "    <tr>\n",
       "      <th>890</th>\n",
       "      <td>891</td>\n",
       "      <td>0</td>\n",
       "      <td>3</td>\n",
       "      <td>Dooley, Mr. Patrick</td>\n",
       "      <td>0</td>\n",
       "      <td>32.000000</td>\n",
       "      <td>0</td>\n",
       "      <td>0</td>\n",
       "      <td>370376</td>\n",
       "      <td>7.7500</td>\n",
       "      <td>0</td>\n",
       "      <td>Q</td>\n",
       "    </tr>\n",
       "  </tbody>\n",
       "</table>\n",
       "<p>891 rows × 12 columns</p>\n",
       "</div>"
      ],
      "text/plain": [
       "     PassengerId  Survived  Pclass  \\\n",
       "0              1         0       3   \n",
       "1              2         1       1   \n",
       "2              3         1       3   \n",
       "3              4         1       1   \n",
       "4              5         0       3   \n",
       "..           ...       ...     ...   \n",
       "886          887         0       2   \n",
       "887          888         1       1   \n",
       "888          889         0       3   \n",
       "889          890         1       1   \n",
       "890          891         0       3   \n",
       "\n",
       "                                                  Name  Sex        Age  SibSp  \\\n",
       "0                              Braund, Mr. Owen Harris    0  22.000000      1   \n",
       "1    Cumings, Mrs. John Bradley (Florence Briggs Th...    1  38.000000      1   \n",
       "2                               Heikkinen, Miss. Laina    1  26.000000      0   \n",
       "3         Futrelle, Mrs. Jacques Heath (Lily May Peel)    1  35.000000      1   \n",
       "4                             Allen, Mr. William Henry    0  35.000000      0   \n",
       "..                                                 ...  ...        ...    ...   \n",
       "886                              Montvila, Rev. Juozas    0  27.000000      0   \n",
       "887                       Graham, Miss. Margaret Edith    1  19.000000      0   \n",
       "888           Johnston, Miss. Catherine Helen \"Carrie\"    1  29.699118      1   \n",
       "889                              Behr, Mr. Karl Howell    0  26.000000      0   \n",
       "890                                Dooley, Mr. Patrick    0  32.000000      0   \n",
       "\n",
       "     Parch            Ticket     Fare Cabin Embarked  \n",
       "0        0         A/5 21171   7.2500     0        S  \n",
       "1        0          PC 17599  71.2833   C85        C  \n",
       "2        0  STON/O2. 3101282   7.9250     0        S  \n",
       "3        0            113803  53.1000  C123        S  \n",
       "4        0            373450   8.0500     0        S  \n",
       "..     ...               ...      ...   ...      ...  \n",
       "886      0            211536  13.0000     0        S  \n",
       "887      0            112053  30.0000   B42        S  \n",
       "888      2        W./C. 6607  23.4500     0        S  \n",
       "889      0            111369  30.0000  C148        C  \n",
       "890      0            370376   7.7500     0        Q  \n",
       "\n",
       "[891 rows x 12 columns]"
      ]
     },
     "execution_count": 8,
     "metadata": {},
     "output_type": "execute_result"
    }
   ],
   "source": [
    "df"
   ]
  },
  {
   "cell_type": "code",
   "execution_count": 9,
   "metadata": {
    "execution": {
     "iopub.execute_input": "2020-12-22T09:32:47.310921Z",
     "iopub.status.busy": "2020-12-22T09:32:47.309920Z",
     "iopub.status.idle": "2020-12-22T09:32:47.893158Z",
     "shell.execute_reply": "2020-12-22T09:32:47.893670Z"
    },
    "papermill": {
     "duration": 0.612391,
     "end_time": "2020-12-22T09:32:47.893834",
     "exception": false,
     "start_time": "2020-12-22T09:32:47.281443",
     "status": "completed"
    },
    "tags": []
   },
   "outputs": [
    {
     "data": {
      "text/plain": [
       "<matplotlib.axes._subplots.AxesSubplot at 0x7f75799947d0>"
      ]
     },
     "execution_count": 9,
     "metadata": {},
     "output_type": "execute_result"
    },
    {
     "data": {
      "image/png": "[encoded data removed]",
      "text/plain": [
       "<Figure size 1200x900 with 2 Axes>"
      ]
     },
     "metadata": {
      "needs_background": "light"
     },
     "output_type": "display_data"
    }
   ],
   "source": [
    "plt.figure(figsize=(8,6), dpi=150)\n",
    "sns.heatmap(data=df.corr(), cmap='coolwarm', annot=True)"
   ]
  },
  {
   "cell_type": "code",
   "execution_count": 10,
   "metadata": {
    "execution": {
     "iopub.execute_input": "2020-12-22T09:32:47.956739Z",
     "iopub.status.busy": "2020-12-22T09:32:47.956055Z",
     "iopub.status.idle": "2020-12-22T09:32:47.964852Z",
     "shell.execute_reply": "2020-12-22T09:32:47.965410Z"
    },
    "papermill": {
     "duration": 0.04185,
     "end_time": "2020-12-22T09:32:47.965546",
     "exception": false,
     "start_time": "2020-12-22T09:32:47.923696",
     "status": "completed"
    },
    "tags": []
   },
   "outputs": [
    {
     "data": {
      "text/plain": [
       "Age         0.069809\n",
       "Parch       0.081629\n",
       "Fare        0.257307\n",
       "Pclass      0.338481\n",
       "Sex         0.543351\n",
       "Survived    1.000000\n",
       "Name: Survived, dtype: float64"
      ]
     },
     "execution_count": 10,
     "metadata": {},
     "output_type": "execute_result"
    }
   ],
   "source": [
    "np.abs(df.corr()['Survived']).sort_values().tail(6)"
   ]
  },
  {
   "cell_type": "code",
   "execution_count": 11,
   "metadata": {
    "execution": {
     "iopub.execute_input": "2020-12-22T09:32:48.029317Z",
     "iopub.status.busy": "2020-12-22T09:32:48.028633Z",
     "iopub.status.idle": "2020-12-22T09:32:48.034701Z",
     "shell.execute_reply": "2020-12-22T09:32:48.035224Z"
    },
    "papermill": {
     "duration": 0.039472,
     "end_time": "2020-12-22T09:32:48.035399",
     "exception": false,
     "start_time": "2020-12-22T09:32:47.995927",
     "status": "completed"
    },
    "tags": []
   },
   "outputs": [],
   "source": [
    "X = df.drop(['Survived', 'Cabin', 'Name', 'Embarked', 'Ticket'], axis=1)\n",
    "y = df['Survived']"
   ]
  },
  {
   "cell_type": "code",
   "execution_count": 12,
   "metadata": {
    "execution": {
     "iopub.execute_input": "2020-12-22T09:32:48.099215Z",
     "iopub.status.busy": "2020-12-22T09:32:48.098586Z",
     "iopub.status.idle": "2020-12-22T09:32:48.114759Z",
     "shell.execute_reply": "2020-12-22T09:32:48.115341Z"
    },
    "papermill": {
     "duration": 0.049865,
     "end_time": "2020-12-22T09:32:48.115475",
     "exception": false,
     "start_time": "2020-12-22T09:32:48.065610",
     "status": "completed"
    },
    "tags": []
   },
   "outputs": [
    {
     "data": {
      "text/html": [
       "<div>\n",
       "<style scoped>\n",
       "    .dataframe tbody tr th:only-of-type {\n",
       "        vertical-align: middle;\n",
       "    }\n",
       "\n",
       "    .dataframe tbody tr th {\n",
       "        vertical-align: top;\n",
       "    }\n",
       "\n",
       "    .dataframe thead th {\n",
       "        text-align: right;\n",
       "    }\n",
       "</style>\n",
       "<table border=\"1\" class=\"dataframe\">\n",
       "  <thead>\n",
       "    <tr style=\"text-align: right;\">\n",
       "      <th></th>\n",
       "      <th>PassengerId</th>\n",
       "      <th>Pclass</th>\n",
       "      <th>Sex</th>\n",
       "      <th>Age</th>\n",
       "      <th>SibSp</th>\n",
       "      <th>Parch</th>\n",
       "      <th>Fare</th>\n",
       "    </tr>\n",
       "  </thead>\n",
       "  <tbody>\n",
       "    <tr>\n",
       "      <th>0</th>\n",
       "      <td>1</td>\n",
       "      <td>3</td>\n",
       "      <td>0</td>\n",
       "      <td>22.000000</td>\n",
       "      <td>1</td>\n",
       "      <td>0</td>\n",
       "      <td>7.2500</td>\n",
       "    </tr>\n",
       "    <tr>\n",
       "      <th>1</th>\n",
       "      <td>2</td>\n",
       "      <td>1</td>\n",
       "      <td>1</td>\n",
       "      <td>38.000000</td>\n",
       "      <td>1</td>\n",
       "      <td>0</td>\n",
       "      <td>71.2833</td>\n",
       "    </tr>\n",
       "    <tr>\n",
       "      <th>2</th>\n",
       "      <td>3</td>\n",
       "      <td>3</td>\n",
       "      <td>1</td>\n",
       "      <td>26.000000</td>\n",
       "      <td>0</td>\n",
       "      <td>0</td>\n",
       "      <td>7.9250</td>\n",
       "    </tr>\n",
       "    <tr>\n",
       "      <th>3</th>\n",
       "      <td>4</td>\n",
       "      <td>1</td>\n",
       "      <td>1</td>\n",
       "      <td>35.000000</td>\n",
       "      <td>1</td>\n",
       "      <td>0</td>\n",
       "      <td>53.1000</td>\n",
       "    </tr>\n",
       "    <tr>\n",
       "      <th>4</th>\n",
       "      <td>5</td>\n",
       "      <td>3</td>\n",
       "      <td>0</td>\n",
       "      <td>35.000000</td>\n",
       "      <td>0</td>\n",
       "      <td>0</td>\n",
       "      <td>8.0500</td>\n",
       "    </tr>\n",
       "    <tr>\n",
       "      <th>...</th>\n",
       "      <td>...</td>\n",
       "      <td>...</td>\n",
       "      <td>...</td>\n",
       "      <td>...</td>\n",
       "      <td>...</td>\n",
       "      <td>...</td>\n",
       "      <td>...</td>\n",
       "    </tr>\n",
       "    <tr>\n",
       "      <th>886</th>\n",
       "      <td>887</td>\n",
       "      <td>2</td>\n",
       "      <td>0</td>\n",
       "      <td>27.000000</td>\n",
       "      <td>0</td>\n",
       "      <td>0</td>\n",
       "      <td>13.0000</td>\n",
       "    </tr>\n",
       "    <tr>\n",
       "      <th>887</th>\n",
       "      <td>888</td>\n",
       "      <td>1</td>\n",
       "      <td>1</td>\n",
       "      <td>19.000000</td>\n",
       "      <td>0</td>\n",
       "      <td>0</td>\n",
       "      <td>30.0000</td>\n",
       "    </tr>\n",
       "    <tr>\n",
       "      <th>888</th>\n",
       "      <td>889</td>\n",
       "      <td>3</td>\n",
       "      <td>1</td>\n",
       "      <td>29.699118</td>\n",
       "      <td>1</td>\n",
       "      <td>2</td>\n",
       "      <td>23.4500</td>\n",
       "    </tr>\n",
       "    <tr>\n",
       "      <th>889</th>\n",
       "      <td>890</td>\n",
       "      <td>1</td>\n",
       "      <td>0</td>\n",
       "      <td>26.000000</td>\n",
       "      <td>0</td>\n",
       "      <td>0</td>\n",
       "      <td>30.0000</td>\n",
       "    </tr>\n",
       "    <tr>\n",
       "      <th>890</th>\n",
       "      <td>891</td>\n",
       "      <td>3</td>\n",
       "      <td>0</td>\n",
       "      <td>32.000000</td>\n",
       "      <td>0</td>\n",
       "      <td>0</td>\n",
       "      <td>7.7500</td>\n",
       "    </tr>\n",
       "  </tbody>\n",
       "</table>\n",
       "<p>891 rows × 7 columns</p>\n",
       "</div>"
      ],
      "text/plain": [
       "     PassengerId  Pclass  Sex        Age  SibSp  Parch     Fare\n",
       "0              1       3    0  22.000000      1      0   7.2500\n",
       "1              2       1    1  38.000000      1      0  71.2833\n",
       "2              3       3    1  26.000000      0      0   7.9250\n",
       "3              4       1    1  35.000000      1      0  53.1000\n",
       "4              5       3    0  35.000000      0      0   8.0500\n",
       "..           ...     ...  ...        ...    ...    ...      ...\n",
       "886          887       2    0  27.000000      0      0  13.0000\n",
       "887          888       1    1  19.000000      0      0  30.0000\n",
       "888          889       3    1  29.699118      1      2  23.4500\n",
       "889          890       1    0  26.000000      0      0  30.0000\n",
       "890          891       3    0  32.000000      0      0   7.7500\n",
       "\n",
       "[891 rows x 7 columns]"
      ]
     },
     "execution_count": 12,
     "metadata": {},
     "output_type": "execute_result"
    }
   ],
   "source": [
    "X"
   ]
  },
  {
   "cell_type": "code",
   "execution_count": 13,
   "metadata": {
    "execution": {
     "iopub.execute_input": "2020-12-22T09:32:48.180954Z",
     "iopub.status.busy": "2020-12-22T09:32:48.180259Z",
     "iopub.status.idle": "2020-12-22T09:32:48.295967Z",
     "shell.execute_reply": "2020-12-22T09:32:48.296528Z"
    },
    "papermill": {
     "duration": 0.149997,
     "end_time": "2020-12-22T09:32:48.296686",
     "exception": false,
     "start_time": "2020-12-22T09:32:48.146689",
     "status": "completed"
    },
    "tags": []
   },
   "outputs": [],
   "source": [
    "from sklearn.model_selection import train_test_split\n",
    "X_train, X_test, y_train, y_test = train_test_split(X, y, test_size=0.1, random_state=42)"
   ]
  },
  {
   "cell_type": "code",
   "execution_count": 14,
   "metadata": {
    "execution": {
     "iopub.execute_input": "2020-12-22T09:32:48.362401Z",
     "iopub.status.busy": "2020-12-22T09:32:48.361729Z",
     "iopub.status.idle": "2020-12-22T09:32:48.365766Z",
     "shell.execute_reply": "2020-12-22T09:32:48.366332Z"
    },
    "papermill": {
     "duration": 0.03846,
     "end_time": "2020-12-22T09:32:48.366477",
     "exception": false,
     "start_time": "2020-12-22T09:32:48.328017",
     "status": "completed"
    },
    "tags": []
   },
   "outputs": [],
   "source": [
    "from sklearn.preprocessing import StandardScaler\n",
    "scaler = StandardScaler()"
   ]
  },
  {
   "cell_type": "code",
   "execution_count": 15,
   "metadata": {
    "execution": {
     "iopub.execute_input": "2020-12-22T09:32:48.438979Z",
     "iopub.status.busy": "2020-12-22T09:32:48.438188Z",
     "iopub.status.idle": "2020-12-22T09:32:48.446473Z",
     "shell.execute_reply": "2020-12-22T09:32:48.447134Z"
    },
    "papermill": {
     "duration": 0.048834,
     "end_time": "2020-12-22T09:32:48.447297",
     "exception": false,
     "start_time": "2020-12-22T09:32:48.398463",
     "status": "completed"
    },
    "tags": []
   },
   "outputs": [],
   "source": [
    "scaled_X_train = scaler.fit_transform(X_train)\n",
    "scaled_X_test = scaler.transform(X_test)"
   ]
  },
  {
   "cell_type": "code",
   "execution_count": 16,
   "metadata": {
    "execution": {
     "iopub.execute_input": "2020-12-22T09:32:48.516211Z",
     "iopub.status.busy": "2020-12-22T09:32:48.515533Z",
     "iopub.status.idle": "2020-12-22T09:32:48.667972Z",
     "shell.execute_reply": "2020-12-22T09:32:48.668484Z"
    },
    "papermill": {
     "duration": 0.189587,
     "end_time": "2020-12-22T09:32:48.668652",
     "exception": false,
     "start_time": "2020-12-22T09:32:48.479065",
     "status": "completed"
    },
    "tags": []
   },
   "outputs": [],
   "source": [
    "from sklearn.neighbors import KNeighborsClassifier\n",
    "knn = KNeighborsClassifier()\n",
    "operations = [('scaler',scaler),('knn',knn)]\n",
    "from sklearn.pipeline import Pipeline\n",
    "pipe = Pipeline(operations)"
   ]
  },
  {
   "cell_type": "code",
   "execution_count": 17,
   "metadata": {
    "execution": {
     "iopub.execute_input": "2020-12-22T09:32:48.736405Z",
     "iopub.status.busy": "2020-12-22T09:32:48.735722Z",
     "iopub.status.idle": "2020-12-22T09:32:48.739887Z",
     "shell.execute_reply": "2020-12-22T09:32:48.740355Z"
    },
    "papermill": {
     "duration": 0.039334,
     "end_time": "2020-12-22T09:32:48.740495",
     "exception": false,
     "start_time": "2020-12-22T09:32:48.701161",
     "status": "completed"
    },
    "tags": []
   },
   "outputs": [],
   "source": [
    "from sklearn.model_selection import GridSearchCV\n",
    "k_values = list(range(1, 30))\n",
    "param_grid = {'knn__n_neighbors': k_values}"
   ]
  },
  {
   "cell_type": "code",
   "execution_count": 18,
   "metadata": {
    "execution": {
     "iopub.execute_input": "2020-12-22T09:32:48.810165Z",
     "iopub.status.busy": "2020-12-22T09:32:48.809490Z",
     "iopub.status.idle": "2020-12-22T09:32:48.812365Z",
     "shell.execute_reply": "2020-12-22T09:32:48.811709Z"
    },
    "papermill": {
     "duration": 0.040084,
     "end_time": "2020-12-22T09:32:48.812472",
     "exception": false,
     "start_time": "2020-12-22T09:32:48.772388",
     "status": "completed"
    },
    "tags": []
   },
   "outputs": [],
   "source": [
    "fullcvclassifier = GridSearchCV(pipe, param_grid, cv=5,scoring='accuracy')"
   ]
  },
  {
   "cell_type": "code",
   "execution_count": 19,
   "metadata": {
    "execution": {
     "iopub.execute_input": "2020-12-22T09:32:48.881497Z",
     "iopub.status.busy": "2020-12-22T09:32:48.880629Z",
     "iopub.status.idle": "2020-12-22T09:32:48.893060Z",
     "shell.execute_reply": "2020-12-22T09:32:48.892541Z"
    },
    "papermill": {
     "duration": 0.048462,
     "end_time": "2020-12-22T09:32:48.893175",
     "exception": false,
     "start_time": "2020-12-22T09:32:48.844713",
     "status": "completed"
    },
    "tags": []
   },
   "outputs": [
    {
     "data": {
      "text/plain": [
       "GridSearchCV(cv=5,\n",
       "             estimator=Pipeline(steps=[('scaler', StandardScaler()),\n",
       "                                       ('knn', KNeighborsClassifier())]),\n",
       "             param_grid={'knn__n_neighbors': [1, 2, 3, 4, 5, 6, 7, 8, 9, 10, 11,\n",
       "                                              12, 13, 14, 15, 16, 17, 18, 19,\n",
       "                                              20, 21, 22, 23, 24, 25, 26, 27,\n",
       "                                              28, 29]},\n",
       "             scoring='accuracy')"
      ]
     },
     "execution_count": 19,
     "metadata": {},
     "output_type": "execute_result"
    }
   ],
   "source": [
    "fullcvclassifier"
   ]
  },
  {
   "cell_type": "code",
   "execution_count": 20,
   "metadata": {
    "execution": {
     "iopub.execute_input": "2020-12-22T09:32:48.961188Z",
     "iopub.status.busy": "2020-12-22T09:32:48.960540Z",
     "iopub.status.idle": "2020-12-22T09:32:51.475270Z",
     "shell.execute_reply": "2020-12-22T09:32:51.474703Z"
    },
    "papermill": {
     "duration": 2.549451,
     "end_time": "2020-12-22T09:32:51.475378",
     "exception": false,
     "start_time": "2020-12-22T09:32:48.925927",
     "status": "completed"
    },
    "tags": []
   },
   "outputs": [
    {
     "data": {
      "text/plain": [
       "GridSearchCV(cv=5,\n",
       "             estimator=Pipeline(steps=[('scaler', StandardScaler()),\n",
       "                                       ('knn', KNeighborsClassifier())]),\n",
       "             param_grid={'knn__n_neighbors': [1, 2, 3, 4, 5, 6, 7, 8, 9, 10, 11,\n",
       "                                              12, 13, 14, 15, 16, 17, 18, 19,\n",
       "                                              20, 21, 22, 23, 24, 25, 26, 27,\n",
       "                                              28, 29]},\n",
       "             scoring='accuracy')"
      ]
     },
     "execution_count": 20,
     "metadata": {},
     "output_type": "execute_result"
    }
   ],
   "source": [
    "fullcvclassifier.fit(X_train, y_train)"
   ]
  },
  {
   "cell_type": "code",
   "execution_count": 21,
   "metadata": {
    "execution": {
     "iopub.execute_input": "2020-12-22T09:32:51.545368Z",
     "iopub.status.busy": "2020-12-22T09:32:51.544745Z",
     "iopub.status.idle": "2020-12-22T09:32:51.551491Z",
     "shell.execute_reply": "2020-12-22T09:32:51.552037Z"
    },
    "papermill": {
     "duration": 0.044136,
     "end_time": "2020-12-22T09:32:51.552192",
     "exception": false,
     "start_time": "2020-12-22T09:32:51.508056",
     "status": "completed"
    },
    "tags": []
   },
   "outputs": [
    {
     "data": {
      "text/plain": [
       "{'memory': None,\n",
       " 'steps': [('scaler', StandardScaler()),\n",
       "  ('knn', KNeighborsClassifier(n_neighbors=7))],\n",
       " 'verbose': False,\n",
       " 'scaler': StandardScaler(),\n",
       " 'knn': KNeighborsClassifier(n_neighbors=7),\n",
       " 'scaler__copy': True,\n",
       " 'scaler__with_mean': True,\n",
       " 'scaler__with_std': True,\n",
       " 'knn__algorithm': 'auto',\n",
       " 'knn__leaf_size': 30,\n",
       " 'knn__metric': 'minkowski',\n",
       " 'knn__metric_params': None,\n",
       " 'knn__n_jobs': None,\n",
       " 'knn__n_neighbors': 7,\n",
       " 'knn__p': 2,\n",
       " 'knn__weights': 'uniform'}"
      ]
     },
     "execution_count": 21,
     "metadata": {},
     "output_type": "execute_result"
    }
   ],
   "source": [
    "fullcvclassifier.best_estimator_.get_params()"
   ]
  },
  {
   "cell_type": "code",
   "execution_count": 22,
   "metadata": {
    "execution": {
     "iopub.execute_input": "2020-12-22T09:32:51.628578Z",
     "iopub.status.busy": "2020-12-22T09:32:51.627920Z",
     "iopub.status.idle": "2020-12-22T09:32:51.642316Z",
     "shell.execute_reply": "2020-12-22T09:32:51.642833Z"
    },
    "papermill": {
     "duration": 0.056848,
     "end_time": "2020-12-22T09:32:51.642997",
     "exception": false,
     "start_time": "2020-12-22T09:32:51.586149",
     "status": "completed"
    },
    "tags": []
   },
   "outputs": [],
   "source": [
    "y_pred = fullcvclassifier.predict(X_test)"
   ]
  },
  {
   "cell_type": "code",
   "execution_count": 23,
   "metadata": {
    "execution": {
     "iopub.execute_input": "2020-12-22T09:32:51.716130Z",
     "iopub.status.busy": "2020-12-22T09:32:51.715134Z",
     "iopub.status.idle": "2020-12-22T09:32:51.722030Z",
     "shell.execute_reply": "2020-12-22T09:32:51.721499Z"
    },
    "papermill": {
     "duration": 0.045302,
     "end_time": "2020-12-22T09:32:51.722144",
     "exception": false,
     "start_time": "2020-12-22T09:32:51.676842",
     "status": "completed"
    },
    "tags": []
   },
   "outputs": [
    {
     "data": {
      "text/plain": [
       "array([[46,  8],\n",
       "       [ 7, 29]])"
      ]
     },
     "execution_count": 23,
     "metadata": {},
     "output_type": "execute_result"
    }
   ],
   "source": [
    "from sklearn.metrics import classification_report,confusion_matrix\n",
    "confusion_matrix(y_test,y_pred)"
   ]
  },
  {
   "cell_type": "code",
   "execution_count": 24,
   "metadata": {
    "execution": {
     "iopub.execute_input": "2020-12-22T09:32:51.796419Z",
     "iopub.status.busy": "2020-12-22T09:32:51.795368Z",
     "iopub.status.idle": "2020-12-22T09:32:51.805432Z",
     "shell.execute_reply": "2020-12-22T09:32:51.806409Z"
    },
    "papermill": {
     "duration": 0.050067,
     "end_time": "2020-12-22T09:32:51.806634",
     "exception": false,
     "start_time": "2020-12-22T09:32:51.756567",
     "status": "completed"
    },
    "tags": []
   },
   "outputs": [
    {
     "name": "stdout",
     "output_type": "stream",
     "text": [
      "              precision    recall  f1-score   support\n",
      "\n",
      "           0       0.87      0.85      0.86        54\n",
      "           1       0.78      0.81      0.79        36\n",
      "\n",
      "    accuracy                           0.83        90\n",
      "   macro avg       0.83      0.83      0.83        90\n",
      "weighted avg       0.83      0.83      0.83        90\n",
      "\n"
     ]
    }
   ],
   "source": [
    "print(classification_report(y_test, y_pred))"
   ]
  },
  {
   "cell_type": "markdown",
   "metadata": {
    "papermill": {
     "duration": 0.033692,
     "end_time": "2020-12-22T09:32:51.875617",
     "exception": false,
     "start_time": "2020-12-22T09:32:51.841925",
     "status": "completed"
    },
    "tags": []
   },
   "source": [
    "![](http://)***FINAL MODEL EVALUATION WITH K=7***"
   ]
  },
  {
   "cell_type": "code",
   "execution_count": 25,
   "metadata": {
    "execution": {
     "iopub.execute_input": "2020-12-22T09:32:51.951301Z",
     "iopub.status.busy": "2020-12-22T09:32:51.950643Z",
     "iopub.status.idle": "2020-12-22T09:32:51.961655Z",
     "shell.execute_reply": "2020-12-22T09:32:51.961135Z"
    },
    "papermill": {
     "duration": 0.052086,
     "end_time": "2020-12-22T09:32:51.961770",
     "exception": false,
     "start_time": "2020-12-22T09:32:51.909684",
     "status": "completed"
    },
    "tags": []
   },
   "outputs": [],
   "source": [
    "test_df = pd.read_csv('/kaggle/input/titanic/test.csv')"
   ]
  },
  {
   "cell_type": "code",
   "execution_count": 26,
   "metadata": {
    "execution": {
     "iopub.execute_input": "2020-12-22T09:32:52.039541Z",
     "iopub.status.busy": "2020-12-22T09:32:52.038603Z",
     "iopub.status.idle": "2020-12-22T09:32:52.043354Z",
     "shell.execute_reply": "2020-12-22T09:32:52.043810Z"
    },
    "papermill": {
     "duration": 0.047006,
     "end_time": "2020-12-22T09:32:52.043992",
     "exception": false,
     "start_time": "2020-12-22T09:32:51.996986",
     "status": "completed"
    },
    "tags": []
   },
   "outputs": [
    {
     "data": {
      "text/plain": [
       "PassengerId      0\n",
       "Pclass           0\n",
       "Name             0\n",
       "Sex              0\n",
       "Age             86\n",
       "SibSp            0\n",
       "Parch            0\n",
       "Ticket           0\n",
       "Fare             1\n",
       "Cabin          327\n",
       "Embarked         0\n",
       "dtype: int64"
      ]
     },
     "execution_count": 26,
     "metadata": {},
     "output_type": "execute_result"
    }
   ],
   "source": [
    "test_df.isnull().sum()"
   ]
  },
  {
   "cell_type": "code",
   "execution_count": 27,
   "metadata": {
    "execution": {
     "iopub.execute_input": "2020-12-22T09:32:52.126252Z",
     "iopub.status.busy": "2020-12-22T09:32:52.125586Z",
     "iopub.status.idle": "2020-12-22T09:32:52.128377Z",
     "shell.execute_reply": "2020-12-22T09:32:52.128961Z"
    },
    "papermill": {
     "duration": 0.050346,
     "end_time": "2020-12-22T09:32:52.129104",
     "exception": false,
     "start_time": "2020-12-22T09:32:52.078758",
     "status": "completed"
    },
    "tags": []
   },
   "outputs": [],
   "source": [
    "test_df['Age'] = test_df['Age'].transform(lambda val: val.fillna(val.mean()))\n",
    "test_df['Fare'] = test_df['Fare'].transform(lambda val: val.fillna(val.mean()))\n",
    "test_df['Sex'] = test_df['Sex'].map({'male': 0, 'female': 1})\n",
    "test_df = test_df.drop(['Cabin', 'Name', 'Embarked', 'Ticket'], axis=1)"
   ]
  },
  {
   "cell_type": "code",
   "execution_count": 28,
   "metadata": {
    "execution": {
     "iopub.execute_input": "2020-12-22T09:32:52.205733Z",
     "iopub.status.busy": "2020-12-22T09:32:52.205080Z",
     "iopub.status.idle": "2020-12-22T09:32:52.208295Z",
     "shell.execute_reply": "2020-12-22T09:32:52.207561Z"
    },
    "papermill": {
     "duration": 0.043024,
     "end_time": "2020-12-22T09:32:52.208417",
     "exception": false,
     "start_time": "2020-12-22T09:32:52.165393",
     "status": "completed"
    },
    "tags": []
   },
   "outputs": [],
   "source": [
    "scaler = StandardScaler()\n",
    "knn7 = KNeighborsClassifier(n_neighbors=7)\n",
    "operations = [('scaler',scaler),('knn7',knn7)]"
   ]
  },
  {
   "cell_type": "code",
   "execution_count": 29,
   "metadata": {
    "execution": {
     "iopub.execute_input": "2020-12-22T09:32:52.286387Z",
     "iopub.status.busy": "2020-12-22T09:32:52.285752Z",
     "iopub.status.idle": "2020-12-22T09:32:52.288681Z",
     "shell.execute_reply": "2020-12-22T09:32:52.288097Z"
    },
    "papermill": {
     "duration": 0.043954,
     "end_time": "2020-12-22T09:32:52.288819",
     "exception": false,
     "start_time": "2020-12-22T09:32:52.244865",
     "status": "completed"
    },
    "tags": []
   },
   "outputs": [],
   "source": [
    "pipe = Pipeline(operations)"
   ]
  },
  {
   "cell_type": "code",
   "execution_count": 30,
   "metadata": {
    "execution": {
     "iopub.execute_input": "2020-12-22T09:32:52.362107Z",
     "iopub.status.busy": "2020-12-22T09:32:52.361485Z",
     "iopub.status.idle": "2020-12-22T09:32:52.373995Z",
     "shell.execute_reply": "2020-12-22T09:32:52.374639Z"
    },
    "papermill": {
     "duration": 0.050888,
     "end_time": "2020-12-22T09:32:52.374778",
     "exception": false,
     "start_time": "2020-12-22T09:32:52.323890",
     "status": "completed"
    },
    "tags": []
   },
   "outputs": [
    {
     "data": {
      "text/plain": [
       "Pipeline(steps=[('scaler', StandardScaler()),\n",
       "                ('knn7', KNeighborsClassifier(n_neighbors=7))])"
      ]
     },
     "execution_count": 30,
     "metadata": {},
     "output_type": "execute_result"
    }
   ],
   "source": [
    "pipe.fit(X_train,y_train)"
   ]
  },
  {
   "cell_type": "code",
   "execution_count": 31,
   "metadata": {
    "execution": {
     "iopub.execute_input": "2020-12-22T09:32:52.450059Z",
     "iopub.status.busy": "2020-12-22T09:32:52.449441Z",
     "iopub.status.idle": "2020-12-22T09:32:52.475485Z",
     "shell.execute_reply": "2020-12-22T09:32:52.475950Z"
    },
    "papermill": {
     "duration": 0.065343,
     "end_time": "2020-12-22T09:32:52.476096",
     "exception": false,
     "start_time": "2020-12-22T09:32:52.410753",
     "status": "completed"
    },
    "tags": []
   },
   "outputs": [],
   "source": [
    "pipe_pred = pipe.predict(test_df)"
   ]
  },
  {
   "cell_type": "code",
   "execution_count": 32,
   "metadata": {
    "execution": {
     "iopub.execute_input": "2020-12-22T09:32:52.550691Z",
     "iopub.status.busy": "2020-12-22T09:32:52.550033Z",
     "iopub.status.idle": "2020-12-22T09:32:52.554412Z",
     "shell.execute_reply": "2020-12-22T09:32:52.554975Z"
    },
    "papermill": {
     "duration": 0.043278,
     "end_time": "2020-12-22T09:32:52.555134",
     "exception": false,
     "start_time": "2020-12-22T09:32:52.511856",
     "status": "completed"
    },
    "tags": []
   },
   "outputs": [],
   "source": [
    "test_df['Survived'] = pipe_pred"
   ]
  },
  {
   "cell_type": "code",
   "execution_count": 33,
   "metadata": {
    "execution": {
     "iopub.execute_input": "2020-12-22T09:32:52.629809Z",
     "iopub.status.busy": "2020-12-22T09:32:52.629193Z",
     "iopub.status.idle": "2020-12-22T09:32:52.636349Z",
     "shell.execute_reply": "2020-12-22T09:32:52.636899Z"
    },
    "papermill": {
     "duration": 0.0458,
     "end_time": "2020-12-22T09:32:52.637053",
     "exception": false,
     "start_time": "2020-12-22T09:32:52.591253",
     "status": "completed"
    },
    "tags": []
   },
   "outputs": [],
   "source": [
    "pred_results = test_df[['PassengerId', 'Survived']]"
   ]
  },
  {
   "cell_type": "code",
   "execution_count": 34,
   "metadata": {
    "execution": {
     "iopub.execute_input": "2020-12-22T09:32:52.715531Z",
     "iopub.status.busy": "2020-12-22T09:32:52.714894Z",
     "iopub.status.idle": "2020-12-22T09:32:52.717845Z",
     "shell.execute_reply": "2020-12-22T09:32:52.717312Z"
    },
    "papermill": {
     "duration": 0.044748,
     "end_time": "2020-12-22T09:32:52.717962",
     "exception": false,
     "start_time": "2020-12-22T09:32:52.673214",
     "status": "completed"
    },
    "tags": []
   },
   "outputs": [],
   "source": [
    "pred_results = pred_results.set_index('PassengerId')"
   ]
  },
  {
   "cell_type": "code",
   "execution_count": 35,
   "metadata": {
    "execution": {
     "iopub.execute_input": "2020-12-22T09:32:52.796348Z",
     "iopub.status.busy": "2020-12-22T09:32:52.795329Z",
     "iopub.status.idle": "2020-12-22T09:32:53.147400Z",
     "shell.execute_reply": "2020-12-22T09:32:53.147962Z"
    },
    "papermill": {
     "duration": 0.393206,
     "end_time": "2020-12-22T09:32:53.148116",
     "exception": false,
     "start_time": "2020-12-22T09:32:52.754910",
     "status": "completed"
    },
    "tags": []
   },
   "outputs": [],
   "source": [
    "pred_results.to_csv('/kaggle/working/submission.csv')"
   ]
  },
  {
   "cell_type": "code",
   "execution_count": null,
   "metadata": {
    "papermill": {
     "duration": 0.036513,
     "end_time": "2020-12-22T09:32:53.222540",
     "exception": false,
     "start_time": "2020-12-22T09:32:53.186027",
     "status": "completed"
    },
    "tags": []
   },
   "outputs": [],
   "source": []
  }
 ],
 "metadata": {
  "kernelspec": {
   "display_name": "Python 3",
   "language": "python",
   "name": "python3"
  },
  "language_info": {
   "codemirror_mode": {
    "name": "ipython",
    "version": 3
   },
   "file_extension": ".py",
   "mimetype": "text/x-python",
   "name": "python",
   "nbconvert_exporter": "python",
   "pygments_lexer": "ipython3",
   "version": "3.7.6"
  },
  "papermill": {
   "duration": 12.119989,
   "end_time": "2020-12-22T09:32:53.366922",
   "environment_variables": {},
   "exception": null,
   "input_path": "__notebook__.ipynb",
   "output_path": "__notebook__.ipynb",
   "parameters": {},
   "start_time": "2020-12-22T09:32:41.246933",
   "version": "2.1.0"
  }
 },
 "nbformat": 4,
 "nbformat_minor": 4
}
