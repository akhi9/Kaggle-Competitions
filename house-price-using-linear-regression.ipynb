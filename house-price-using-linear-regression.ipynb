{
 "cells": [
  {
   "cell_type": "code",
   "execution_count": 1,
   "metadata": {
    "_cell_guid": "b1076dfc-b9ad-4769-8c92-a6c4dae69d19",
    "_uuid": "8f2839f25d086af736a60e9eeb907d3b93b6e0e5",
    "execution": {
     "iopub.execute_input": "2020-12-24T10:39:04.840443Z",
     "iopub.status.busy": "2020-12-24T10:39:04.839573Z",
     "iopub.status.idle": "2020-12-24T10:39:04.846813Z",
     "shell.execute_reply": "2020-12-24T10:39:04.846108Z"
    },
    "papermill": {
     "duration": 0.057492,
     "end_time": "2020-12-24T10:39:04.846997",
     "exception": false,
     "start_time": "2020-12-24T10:39:04.789505",
     "status": "completed"
    },
    "tags": []
   },
   "outputs": [
    {
     "name": "stdout",
     "output_type": "stream",
     "text": [
      "/kaggle/input/house-prices-advanced-regression-techniques/sample_submission.csv\n",
      "/kaggle/input/house-prices-advanced-regression-techniques/data_description.txt\n",
      "/kaggle/input/house-prices-advanced-regression-techniques/train.csv\n",
      "/kaggle/input/house-prices-advanced-regression-techniques/test.csv\n"
     ]
    }
   ],
   "source": [
    "# This Python 3 environment comes with many helpful analytics libraries installed\n",
    "# It is defined by the kaggle/python Docker image: https://github.com/kaggle/docker-python\n",
    "# For example, here's several helpful packages to load\n",
    "\n",
    "import numpy as np # linear algebra\n",
    "import pandas as pd # data processing, CSV file I/O (e.g. pd.read_csv)\n",
    "\n",
    "# Input data files are available in the read-only \"../input/\" directory\n",
    "# For example, running this (by clicking run or pressing Shift+Enter) will list all files under the input directory\n",
    "\n",
    "import os\n",
    "for dirname, _, filenames in os.walk('/kaggle/input'):\n",
    "    for filename in filenames:\n",
    "        print(os.path.join(dirname, filename))\n",
    "\n",
    "# You can write up to 20GB to the current directory (/kaggle/working/) that gets preserved as output when you create a version using \"Save & Run All\" \n",
    "# You can also write temporary files to /kaggle/temp/, but they won't be saved outside of the current session"
   ]
  },
  {
   "cell_type": "code",
   "execution_count": 2,
   "metadata": {
    "_cell_guid": "79c7e3d0-c299-4dcb-8224-4455121ee9b0",
    "_uuid": "d629ff2d2480ee46fbb7e2d37f6b5fab8052498a",
    "execution": {
     "iopub.execute_input": "2020-12-24T10:39:04.934798Z",
     "iopub.status.busy": "2020-12-24T10:39:04.933931Z",
     "iopub.status.idle": "2020-12-24T10:39:06.035274Z",
     "shell.execute_reply": "2020-12-24T10:39:06.034456Z"
    },
    "papermill": {
     "duration": 1.146934,
     "end_time": "2020-12-24T10:39:06.035440",
     "exception": false,
     "start_time": "2020-12-24T10:39:04.888506",
     "status": "completed"
    },
    "tags": []
   },
   "outputs": [],
   "source": [
    "import seaborn as sns\n",
    "import matplotlib.pyplot as plt"
   ]
  },
  {
   "cell_type": "code",
   "execution_count": 3,
   "metadata": {
    "execution": {
     "iopub.execute_input": "2020-12-24T10:39:06.127069Z",
     "iopub.status.busy": "2020-12-24T10:39:06.126208Z",
     "iopub.status.idle": "2020-12-24T10:39:06.178843Z",
     "shell.execute_reply": "2020-12-24T10:39:06.177985Z"
    },
    "papermill": {
     "duration": 0.101718,
     "end_time": "2020-12-24T10:39:06.179040",
     "exception": false,
     "start_time": "2020-12-24T10:39:06.077322",
     "status": "completed"
    },
    "tags": []
   },
   "outputs": [],
   "source": [
    "df = pd.read_csv('../input/house-prices-advanced-regression-techniques/train.csv')"
   ]
  },
  {
   "cell_type": "code",
   "execution_count": 4,
   "metadata": {
    "collapsed": true,
    "execution": {
     "iopub.execute_input": "2020-12-24T10:39:06.281374Z",
     "iopub.status.busy": "2020-12-24T10:39:06.280381Z",
     "iopub.status.idle": "2020-12-24T10:39:06.311663Z",
     "shell.execute_reply": "2020-12-24T10:39:06.312523Z"
    },
    "papermill": {
     "duration": 0.09268,
     "end_time": "2020-12-24T10:39:06.312804",
     "exception": false,
     "start_time": "2020-12-24T10:39:06.220124",
     "status": "completed"
    },
    "tags": []
   },
   "outputs": [
    {
     "name": "stdout",
     "output_type": "stream",
     "text": [
      "<class 'pandas.core.frame.DataFrame'>\n",
      "RangeIndex: 1460 entries, 0 to 1459\n",
      "Data columns (total 81 columns):\n",
      " #   Column         Non-Null Count  Dtype  \n",
      "---  ------         --------------  -----  \n",
      " 0   Id             1460 non-null   int64  \n",
      " 1   MSSubClass     1460 non-null   int64  \n",
      " 2   MSZoning       1460 non-null   object \n",
      " 3   LotFrontage    1201 non-null   float64\n",
      " 4   LotArea        1460 non-null   int64  \n",
      " 5   Street         1460 non-null   object \n",
      " 6   Alley          91 non-null     object \n",
      " 7   LotShape       1460 non-null   object \n",
      " 8   LandContour    1460 non-null   object \n",
      " 9   Utilities      1460 non-null   object \n",
      " 10  LotConfig      1460 non-null   object \n",
      " 11  LandSlope      1460 non-null   object \n",
      " 12  Neighborhood   1460 non-null   object \n",
      " 13  Condition1     1460 non-null   object \n",
      " 14  Condition2     1460 non-null   object \n",
      " 15  BldgType       1460 non-null   object \n",
      " 16  HouseStyle     1460 non-null   object \n",
      " 17  OverallQual    1460 non-null   int64  \n",
      " 18  OverallCond    1460 non-null   int64  \n",
      " 19  YearBuilt      1460 non-null   int64  \n",
      " 20  YearRemodAdd   1460 non-null   int64  \n",
      " 21  RoofStyle      1460 non-null   object \n",
      " 22  RoofMatl       1460 non-null   object \n",
      " 23  Exterior1st    1460 non-null   object \n",
      " 24  Exterior2nd    1460 non-null   object \n",
      " 25  MasVnrType     1452 non-null   object \n",
      " 26  MasVnrArea     1452 non-null   float64\n",
      " 27  ExterQual      1460 non-null   object \n",
      " 28  ExterCond      1460 non-null   object \n",
      " 29  Foundation     1460 non-null   object \n",
      " 30  BsmtQual       1423 non-null   object \n",
      " 31  BsmtCond       1423 non-null   object \n",
      " 32  BsmtExposure   1422 non-null   object \n",
      " 33  BsmtFinType1   1423 non-null   object \n",
      " 34  BsmtFinSF1     1460 non-null   int64  \n",
      " 35  BsmtFinType2   1422 non-null   object \n",
      " 36  BsmtFinSF2     1460 non-null   int64  \n",
      " 37  BsmtUnfSF      1460 non-null   int64  \n",
      " 38  TotalBsmtSF    1460 non-null   int64  \n",
      " 39  Heating        1460 non-null   object \n",
      " 40  HeatingQC      1460 non-null   object \n",
      " 41  CentralAir     1460 non-null   object \n",
      " 42  Electrical     1459 non-null   object \n",
      " 43  1stFlrSF       1460 non-null   int64  \n",
      " 44  2ndFlrSF       1460 non-null   int64  \n",
      " 45  LowQualFinSF   1460 non-null   int64  \n",
      " 46  GrLivArea      1460 non-null   int64  \n",
      " 47  BsmtFullBath   1460 non-null   int64  \n",
      " 48  BsmtHalfBath   1460 non-null   int64  \n",
      " 49  FullBath       1460 non-null   int64  \n",
      " 50  HalfBath       1460 non-null   int64  \n",
      " 51  BedroomAbvGr   1460 non-null   int64  \n",
      " 52  KitchenAbvGr   1460 non-null   int64  \n",
      " 53  KitchenQual    1460 non-null   object \n",
      " 54  TotRmsAbvGrd   1460 non-null   int64  \n",
      " 55  Functional     1460 non-null   object \n",
      " 56  Fireplaces     1460 non-null   int64  \n",
      " 57  FireplaceQu    770 non-null    object \n",
      " 58  GarageType     1379 non-null   object \n",
      " 59  GarageYrBlt    1379 non-null   float64\n",
      " 60  GarageFinish   1379 non-null   object \n",
      " 61  GarageCars     1460 non-null   int64  \n",
      " 62  GarageArea     1460 non-null   int64  \n",
      " 63  GarageQual     1379 non-null   object \n",
      " 64  GarageCond     1379 non-null   object \n",
      " 65  PavedDrive     1460 non-null   object \n",
      " 66  WoodDeckSF     1460 non-null   int64  \n",
      " 67  OpenPorchSF    1460 non-null   int64  \n",
      " 68  EnclosedPorch  1460 non-null   int64  \n",
      " 69  3SsnPorch      1460 non-null   int64  \n",
      " 70  ScreenPorch    1460 non-null   int64  \n",
      " 71  PoolArea       1460 non-null   int64  \n",
      " 72  PoolQC         7 non-null      object \n",
      " 73  Fence          281 non-null    object \n",
      " 74  MiscFeature    54 non-null     object \n",
      " 75  MiscVal        1460 non-null   int64  \n",
      " 76  MoSold         1460 non-null   int64  \n",
      " 77  YrSold         1460 non-null   int64  \n",
      " 78  SaleType       1460 non-null   object \n",
      " 79  SaleCondition  1460 non-null   object \n",
      " 80  SalePrice      1460 non-null   int64  \n",
      "dtypes: float64(3), int64(35), object(43)\n",
      "memory usage: 924.0+ KB\n"
     ]
    }
   ],
   "source": [
    "df.info()"
   ]
  },
  {
   "cell_type": "code",
   "execution_count": 5,
   "metadata": {
    "execution": {
     "iopub.execute_input": "2020-12-24T10:39:06.410323Z",
     "iopub.status.busy": "2020-12-24T10:39:06.409401Z",
     "iopub.status.idle": "2020-12-24T10:39:06.422284Z",
     "shell.execute_reply": "2020-12-24T10:39:06.421479Z"
    },
    "papermill": {
     "duration": 0.067443,
     "end_time": "2020-12-24T10:39:06.422426",
     "exception": false,
     "start_time": "2020-12-24T10:39:06.354983",
     "status": "completed"
    },
    "tags": []
   },
   "outputs": [
    {
     "data": {
      "text/plain": [
       "Id                 0\n",
       "MSSubClass         0\n",
       "MSZoning           0\n",
       "LotFrontage      259\n",
       "LotArea            0\n",
       "                ... \n",
       "MoSold             0\n",
       "YrSold             0\n",
       "SaleType           0\n",
       "SaleCondition      0\n",
       "SalePrice          0\n",
       "Length: 81, dtype: int64"
      ]
     },
     "execution_count": 5,
     "metadata": {},
     "output_type": "execute_result"
    }
   ],
   "source": [
    "df.isnull().sum()"
   ]
  },
  {
   "cell_type": "code",
   "execution_count": 6,
   "metadata": {
    "execution": {
     "iopub.execute_input": "2020-12-24T10:39:06.516811Z",
     "iopub.status.busy": "2020-12-24T10:39:06.515622Z",
     "iopub.status.idle": "2020-12-24T10:39:06.519456Z",
     "shell.execute_reply": "2020-12-24T10:39:06.518819Z"
    },
    "papermill": {
     "duration": 0.054485,
     "end_time": "2020-12-24T10:39:06.519603",
     "exception": false,
     "start_time": "2020-12-24T10:39:06.465118",
     "status": "completed"
    },
    "tags": []
   },
   "outputs": [],
   "source": [
    "def percent_missing(df):\n",
    "    percent_nan = 100* df.isnull().sum() / len(df)\n",
    "    percent_nan = percent_nan[percent_nan>0].sort_values()\n",
    "    return percent_nan"
   ]
  },
  {
   "cell_type": "code",
   "execution_count": 7,
   "metadata": {
    "execution": {
     "iopub.execute_input": "2020-12-24T10:39:06.620744Z",
     "iopub.status.busy": "2020-12-24T10:39:06.619842Z",
     "iopub.status.idle": "2020-12-24T10:39:06.646579Z",
     "shell.execute_reply": "2020-12-24T10:39:06.645877Z"
    },
    "papermill": {
     "duration": 0.084473,
     "end_time": "2020-12-24T10:39:06.646734",
     "exception": false,
     "start_time": "2020-12-24T10:39:06.562261",
     "status": "completed"
    },
    "tags": []
   },
   "outputs": [],
   "source": [
    "percent_nan = percent_missing(df)"
   ]
  },
  {
   "cell_type": "code",
   "execution_count": 8,
   "metadata": {
    "execution": {
     "iopub.execute_input": "2020-12-24T10:39:06.752446Z",
     "iopub.status.busy": "2020-12-24T10:39:06.751459Z",
     "iopub.status.idle": "2020-12-24T10:39:07.075961Z",
     "shell.execute_reply": "2020-12-24T10:39:07.075126Z"
    },
    "papermill": {
     "duration": 0.386956,
     "end_time": "2020-12-24T10:39:07.076115",
     "exception": false,
     "start_time": "2020-12-24T10:39:06.689159",
     "status": "completed"
    },
    "tags": []
   },
   "outputs": [
    {
     "data": {
      "image/png": "[encoded data removed]",
      "text/plain": [
       "<Figure size 432x288 with 1 Axes>"
      ]
     },
     "metadata": {
      "needs_background": "light"
     },
     "output_type": "display_data"
    }
   ],
   "source": [
    "sns.barplot(x=percent_nan.index,y=percent_nan)\n",
    "plt.xticks(rotation=90);"
   ]
  },
  {
   "cell_type": "code",
   "execution_count": 9,
   "metadata": {
    "execution": {
     "iopub.execute_input": "2020-12-24T10:39:07.191697Z",
     "iopub.status.busy": "2020-12-24T10:39:07.186184Z",
     "iopub.status.idle": "2020-12-24T10:39:07.472124Z",
     "shell.execute_reply": "2020-12-24T10:39:07.471036Z"
    },
    "papermill": {
     "duration": 0.351724,
     "end_time": "2020-12-24T10:39:07.472377",
     "exception": false,
     "start_time": "2020-12-24T10:39:07.120653",
     "status": "completed"
    },
    "tags": []
   },
   "outputs": [
    {
     "data": {
      "text/plain": [
       "(0.0, 1.0)"
      ]
     },
     "execution_count": 9,
     "metadata": {},
     "output_type": "execute_result"
    },
    {
     "data": {
      "image/png": "[encoded data removed]",
      "text/plain": [
       "<Figure size 432x288 with 1 Axes>"
      ]
     },
     "metadata": {
      "needs_background": "light"
     },
     "output_type": "display_data"
    }
   ],
   "source": [
    "sns.barplot(x=percent_nan.index,y=percent_nan)\n",
    "plt.xticks(rotation=90);\n",
    "\n",
    "# Set 1% Threshold\n",
    "plt.ylim(0,1)"
   ]
  },
  {
   "cell_type": "code",
   "execution_count": 10,
   "metadata": {
    "execution": {
     "iopub.execute_input": "2020-12-24T10:39:07.614371Z",
     "iopub.status.busy": "2020-12-24T10:39:07.613473Z",
     "iopub.status.idle": "2020-12-24T10:39:07.618504Z",
     "shell.execute_reply": "2020-12-24T10:39:07.617678Z"
    },
    "papermill": {
     "duration": 0.078948,
     "end_time": "2020-12-24T10:39:07.618655",
     "exception": false,
     "start_time": "2020-12-24T10:39:07.539707",
     "status": "completed"
    },
    "tags": []
   },
   "outputs": [
    {
     "data": {
      "text/plain": [
       "Electrical    0.068493\n",
       "MasVnrType    0.547945\n",
       "MasVnrArea    0.547945\n",
       "dtype: float64"
      ]
     },
     "execution_count": 10,
     "metadata": {},
     "output_type": "execute_result"
    }
   ],
   "source": [
    "percent_nan[percent_nan < 1]"
   ]
  },
  {
   "cell_type": "code",
   "execution_count": 11,
   "metadata": {
    "execution": {
     "iopub.execute_input": "2020-12-24T10:39:07.740559Z",
     "iopub.status.busy": "2020-12-24T10:39:07.734774Z",
     "iopub.status.idle": "2020-12-24T10:39:07.760963Z",
     "shell.execute_reply": "2020-12-24T10:39:07.759998Z"
    },
    "papermill": {
     "duration": 0.095914,
     "end_time": "2020-12-24T10:39:07.761118",
     "exception": false,
     "start_time": "2020-12-24T10:39:07.665204",
     "status": "completed"
    },
    "tags": []
   },
   "outputs": [
    {
     "data": {
      "text/html": [
       "<div>\n",
       "<style scoped>\n",
       "    .dataframe tbody tr th:only-of-type {\n",
       "        vertical-align: middle;\n",
       "    }\n",
       "\n",
       "    .dataframe tbody tr th {\n",
       "        vertical-align: top;\n",
       "    }\n",
       "\n",
       "    .dataframe thead th {\n",
       "        text-align: right;\n",
       "    }\n",
       "</style>\n",
       "<table border=\"1\" class=\"dataframe\">\n",
       "  <thead>\n",
       "    <tr style=\"text-align: right;\">\n",
       "      <th></th>\n",
       "      <th>Id</th>\n",
       "      <th>MSSubClass</th>\n",
       "      <th>MSZoning</th>\n",
       "      <th>LotFrontage</th>\n",
       "      <th>LotArea</th>\n",
       "      <th>Street</th>\n",
       "      <th>Alley</th>\n",
       "      <th>LotShape</th>\n",
       "      <th>LandContour</th>\n",
       "      <th>Utilities</th>\n",
       "      <th>...</th>\n",
       "      <th>PoolArea</th>\n",
       "      <th>PoolQC</th>\n",
       "      <th>Fence</th>\n",
       "      <th>MiscFeature</th>\n",
       "      <th>MiscVal</th>\n",
       "      <th>MoSold</th>\n",
       "      <th>YrSold</th>\n",
       "      <th>SaleType</th>\n",
       "      <th>SaleCondition</th>\n",
       "      <th>SalePrice</th>\n",
       "    </tr>\n",
       "  </thead>\n",
       "  <tbody>\n",
       "    <tr>\n",
       "      <th>234</th>\n",
       "      <td>235</td>\n",
       "      <td>60</td>\n",
       "      <td>RL</td>\n",
       "      <td>NaN</td>\n",
       "      <td>7851</td>\n",
       "      <td>Pave</td>\n",
       "      <td>NaN</td>\n",
       "      <td>Reg</td>\n",
       "      <td>Lvl</td>\n",
       "      <td>AllPub</td>\n",
       "      <td>...</td>\n",
       "      <td>0</td>\n",
       "      <td>NaN</td>\n",
       "      <td>NaN</td>\n",
       "      <td>NaN</td>\n",
       "      <td>0</td>\n",
       "      <td>5</td>\n",
       "      <td>2010</td>\n",
       "      <td>WD</td>\n",
       "      <td>Normal</td>\n",
       "      <td>216500</td>\n",
       "    </tr>\n",
       "    <tr>\n",
       "      <th>529</th>\n",
       "      <td>530</td>\n",
       "      <td>20</td>\n",
       "      <td>RL</td>\n",
       "      <td>NaN</td>\n",
       "      <td>32668</td>\n",
       "      <td>Pave</td>\n",
       "      <td>NaN</td>\n",
       "      <td>IR1</td>\n",
       "      <td>Lvl</td>\n",
       "      <td>AllPub</td>\n",
       "      <td>...</td>\n",
       "      <td>0</td>\n",
       "      <td>NaN</td>\n",
       "      <td>NaN</td>\n",
       "      <td>NaN</td>\n",
       "      <td>0</td>\n",
       "      <td>3</td>\n",
       "      <td>2007</td>\n",
       "      <td>WD</td>\n",
       "      <td>Alloca</td>\n",
       "      <td>200624</td>\n",
       "    </tr>\n",
       "    <tr>\n",
       "      <th>650</th>\n",
       "      <td>651</td>\n",
       "      <td>60</td>\n",
       "      <td>FV</td>\n",
       "      <td>65.0</td>\n",
       "      <td>8125</td>\n",
       "      <td>Pave</td>\n",
       "      <td>NaN</td>\n",
       "      <td>Reg</td>\n",
       "      <td>Lvl</td>\n",
       "      <td>AllPub</td>\n",
       "      <td>...</td>\n",
       "      <td>0</td>\n",
       "      <td>NaN</td>\n",
       "      <td>NaN</td>\n",
       "      <td>NaN</td>\n",
       "      <td>0</td>\n",
       "      <td>5</td>\n",
       "      <td>2008</td>\n",
       "      <td>WD</td>\n",
       "      <td>Normal</td>\n",
       "      <td>205950</td>\n",
       "    </tr>\n",
       "    <tr>\n",
       "      <th>936</th>\n",
       "      <td>937</td>\n",
       "      <td>20</td>\n",
       "      <td>RL</td>\n",
       "      <td>67.0</td>\n",
       "      <td>10083</td>\n",
       "      <td>Pave</td>\n",
       "      <td>NaN</td>\n",
       "      <td>Reg</td>\n",
       "      <td>Lvl</td>\n",
       "      <td>AllPub</td>\n",
       "      <td>...</td>\n",
       "      <td>0</td>\n",
       "      <td>NaN</td>\n",
       "      <td>NaN</td>\n",
       "      <td>NaN</td>\n",
       "      <td>0</td>\n",
       "      <td>8</td>\n",
       "      <td>2009</td>\n",
       "      <td>WD</td>\n",
       "      <td>Normal</td>\n",
       "      <td>184900</td>\n",
       "    </tr>\n",
       "    <tr>\n",
       "      <th>973</th>\n",
       "      <td>974</td>\n",
       "      <td>20</td>\n",
       "      <td>FV</td>\n",
       "      <td>95.0</td>\n",
       "      <td>11639</td>\n",
       "      <td>Pave</td>\n",
       "      <td>NaN</td>\n",
       "      <td>Reg</td>\n",
       "      <td>Lvl</td>\n",
       "      <td>AllPub</td>\n",
       "      <td>...</td>\n",
       "      <td>0</td>\n",
       "      <td>NaN</td>\n",
       "      <td>NaN</td>\n",
       "      <td>NaN</td>\n",
       "      <td>0</td>\n",
       "      <td>12</td>\n",
       "      <td>2008</td>\n",
       "      <td>New</td>\n",
       "      <td>Partial</td>\n",
       "      <td>182000</td>\n",
       "    </tr>\n",
       "    <tr>\n",
       "      <th>977</th>\n",
       "      <td>978</td>\n",
       "      <td>120</td>\n",
       "      <td>FV</td>\n",
       "      <td>35.0</td>\n",
       "      <td>4274</td>\n",
       "      <td>Pave</td>\n",
       "      <td>Pave</td>\n",
       "      <td>IR1</td>\n",
       "      <td>Lvl</td>\n",
       "      <td>AllPub</td>\n",
       "      <td>...</td>\n",
       "      <td>0</td>\n",
       "      <td>NaN</td>\n",
       "      <td>NaN</td>\n",
       "      <td>NaN</td>\n",
       "      <td>0</td>\n",
       "      <td>11</td>\n",
       "      <td>2007</td>\n",
       "      <td>New</td>\n",
       "      <td>Partial</td>\n",
       "      <td>199900</td>\n",
       "    </tr>\n",
       "    <tr>\n",
       "      <th>1243</th>\n",
       "      <td>1244</td>\n",
       "      <td>20</td>\n",
       "      <td>RL</td>\n",
       "      <td>107.0</td>\n",
       "      <td>13891</td>\n",
       "      <td>Pave</td>\n",
       "      <td>NaN</td>\n",
       "      <td>Reg</td>\n",
       "      <td>Lvl</td>\n",
       "      <td>AllPub</td>\n",
       "      <td>...</td>\n",
       "      <td>0</td>\n",
       "      <td>NaN</td>\n",
       "      <td>NaN</td>\n",
       "      <td>NaN</td>\n",
       "      <td>0</td>\n",
       "      <td>9</td>\n",
       "      <td>2006</td>\n",
       "      <td>New</td>\n",
       "      <td>Partial</td>\n",
       "      <td>465000</td>\n",
       "    </tr>\n",
       "    <tr>\n",
       "      <th>1278</th>\n",
       "      <td>1279</td>\n",
       "      <td>60</td>\n",
       "      <td>RL</td>\n",
       "      <td>75.0</td>\n",
       "      <td>9473</td>\n",
       "      <td>Pave</td>\n",
       "      <td>NaN</td>\n",
       "      <td>Reg</td>\n",
       "      <td>Lvl</td>\n",
       "      <td>AllPub</td>\n",
       "      <td>...</td>\n",
       "      <td>0</td>\n",
       "      <td>NaN</td>\n",
       "      <td>NaN</td>\n",
       "      <td>NaN</td>\n",
       "      <td>0</td>\n",
       "      <td>3</td>\n",
       "      <td>2008</td>\n",
       "      <td>WD</td>\n",
       "      <td>Normal</td>\n",
       "      <td>237000</td>\n",
       "    </tr>\n",
       "  </tbody>\n",
       "</table>\n",
       "<p>8 rows × 81 columns</p>\n",
       "</div>"
      ],
      "text/plain": [
       "        Id  MSSubClass MSZoning  LotFrontage  LotArea Street Alley LotShape  \\\n",
       "234    235          60       RL          NaN     7851   Pave   NaN      Reg   \n",
       "529    530          20       RL          NaN    32668   Pave   NaN      IR1   \n",
       "650    651          60       FV         65.0     8125   Pave   NaN      Reg   \n",
       "936    937          20       RL         67.0    10083   Pave   NaN      Reg   \n",
       "973    974          20       FV         95.0    11639   Pave   NaN      Reg   \n",
       "977    978         120       FV         35.0     4274   Pave  Pave      IR1   \n",
       "1243  1244          20       RL        107.0    13891   Pave   NaN      Reg   \n",
       "1278  1279          60       RL         75.0     9473   Pave   NaN      Reg   \n",
       "\n",
       "     LandContour Utilities  ... PoolArea PoolQC Fence MiscFeature MiscVal  \\\n",
       "234          Lvl    AllPub  ...        0    NaN   NaN         NaN       0   \n",
       "529          Lvl    AllPub  ...        0    NaN   NaN         NaN       0   \n",
       "650          Lvl    AllPub  ...        0    NaN   NaN         NaN       0   \n",
       "936          Lvl    AllPub  ...        0    NaN   NaN         NaN       0   \n",
       "973          Lvl    AllPub  ...        0    NaN   NaN         NaN       0   \n",
       "977          Lvl    AllPub  ...        0    NaN   NaN         NaN       0   \n",
       "1243         Lvl    AllPub  ...        0    NaN   NaN         NaN       0   \n",
       "1278         Lvl    AllPub  ...        0    NaN   NaN         NaN       0   \n",
       "\n",
       "     MoSold YrSold  SaleType  SaleCondition  SalePrice  \n",
       "234       5   2010        WD         Normal     216500  \n",
       "529       3   2007        WD         Alloca     200624  \n",
       "650       5   2008        WD         Normal     205950  \n",
       "936       8   2009        WD         Normal     184900  \n",
       "973      12   2008       New        Partial     182000  \n",
       "977      11   2007       New        Partial     199900  \n",
       "1243      9   2006       New        Partial     465000  \n",
       "1278      3   2008        WD         Normal     237000  \n",
       "\n",
       "[8 rows x 81 columns]"
      ]
     },
     "execution_count": 11,
     "metadata": {},
     "output_type": "execute_result"
    }
   ],
   "source": [
    "df[df['MasVnrType'].isnull()]"
   ]
  },
  {
   "cell_type": "code",
   "execution_count": 12,
   "metadata": {
    "execution": {
     "iopub.execute_input": "2020-12-24T10:39:07.885838Z",
     "iopub.status.busy": "2020-12-24T10:39:07.872941Z",
     "iopub.status.idle": "2020-12-24T10:39:07.890705Z",
     "shell.execute_reply": "2020-12-24T10:39:07.890042Z"
    },
    "papermill": {
     "duration": 0.083198,
     "end_time": "2020-12-24T10:39:07.890845",
     "exception": false,
     "start_time": "2020-12-24T10:39:07.807647",
     "status": "completed"
    },
    "tags": []
   },
   "outputs": [
    {
     "data": {
      "text/html": [
       "<div>\n",
       "<style scoped>\n",
       "    .dataframe tbody tr th:only-of-type {\n",
       "        vertical-align: middle;\n",
       "    }\n",
       "\n",
       "    .dataframe tbody tr th {\n",
       "        vertical-align: top;\n",
       "    }\n",
       "\n",
       "    .dataframe thead th {\n",
       "        text-align: right;\n",
       "    }\n",
       "</style>\n",
       "<table border=\"1\" class=\"dataframe\">\n",
       "  <thead>\n",
       "    <tr style=\"text-align: right;\">\n",
       "      <th></th>\n",
       "      <th>Id</th>\n",
       "      <th>MSSubClass</th>\n",
       "      <th>MSZoning</th>\n",
       "      <th>LotFrontage</th>\n",
       "      <th>LotArea</th>\n",
       "      <th>Street</th>\n",
       "      <th>Alley</th>\n",
       "      <th>LotShape</th>\n",
       "      <th>LandContour</th>\n",
       "      <th>Utilities</th>\n",
       "      <th>...</th>\n",
       "      <th>PoolArea</th>\n",
       "      <th>PoolQC</th>\n",
       "      <th>Fence</th>\n",
       "      <th>MiscFeature</th>\n",
       "      <th>MiscVal</th>\n",
       "      <th>MoSold</th>\n",
       "      <th>YrSold</th>\n",
       "      <th>SaleType</th>\n",
       "      <th>SaleCondition</th>\n",
       "      <th>SalePrice</th>\n",
       "    </tr>\n",
       "  </thead>\n",
       "  <tbody>\n",
       "    <tr>\n",
       "      <th>1379</th>\n",
       "      <td>1380</td>\n",
       "      <td>80</td>\n",
       "      <td>RL</td>\n",
       "      <td>73.0</td>\n",
       "      <td>9735</td>\n",
       "      <td>Pave</td>\n",
       "      <td>NaN</td>\n",
       "      <td>Reg</td>\n",
       "      <td>Lvl</td>\n",
       "      <td>AllPub</td>\n",
       "      <td>...</td>\n",
       "      <td>0</td>\n",
       "      <td>NaN</td>\n",
       "      <td>NaN</td>\n",
       "      <td>NaN</td>\n",
       "      <td>0</td>\n",
       "      <td>5</td>\n",
       "      <td>2008</td>\n",
       "      <td>WD</td>\n",
       "      <td>Normal</td>\n",
       "      <td>167500</td>\n",
       "    </tr>\n",
       "  </tbody>\n",
       "</table>\n",
       "<p>1 rows × 81 columns</p>\n",
       "</div>"
      ],
      "text/plain": [
       "        Id  MSSubClass MSZoning  LotFrontage  LotArea Street Alley LotShape  \\\n",
       "1379  1380          80       RL         73.0     9735   Pave   NaN      Reg   \n",
       "\n",
       "     LandContour Utilities  ... PoolArea PoolQC Fence MiscFeature MiscVal  \\\n",
       "1379         Lvl    AllPub  ...        0    NaN   NaN         NaN       0   \n",
       "\n",
       "     MoSold YrSold  SaleType  SaleCondition  SalePrice  \n",
       "1379      5   2008        WD         Normal     167500  \n",
       "\n",
       "[1 rows x 81 columns]"
      ]
     },
     "execution_count": 12,
     "metadata": {},
     "output_type": "execute_result"
    }
   ],
   "source": [
    "df[df['Electrical'].isnull()]"
   ]
  },
  {
   "cell_type": "code",
   "execution_count": 13,
   "metadata": {
    "execution": {
     "iopub.execute_input": "2020-12-24T10:39:08.000485Z",
     "iopub.status.busy": "2020-12-24T10:39:07.999548Z",
     "iopub.status.idle": "2020-12-24T10:39:08.003263Z",
     "shell.execute_reply": "2020-12-24T10:39:08.002444Z"
    },
    "papermill": {
     "duration": 0.064183,
     "end_time": "2020-12-24T10:39:08.003407",
     "exception": false,
     "start_time": "2020-12-24T10:39:07.939224",
     "status": "completed"
    },
    "tags": []
   },
   "outputs": [],
   "source": [
    "df[['Electrical','MasVnrType']] = df[['Electrical','MasVnrType']].fillna('None')\n",
    "df[['MasVnrArea']] = df[['MasVnrArea']].fillna(0)"
   ]
  },
  {
   "cell_type": "code",
   "execution_count": 14,
   "metadata": {
    "execution": {
     "iopub.execute_input": "2020-12-24T10:39:08.112726Z",
     "iopub.status.busy": "2020-12-24T10:39:08.111518Z",
     "iopub.status.idle": "2020-12-24T10:39:08.119606Z",
     "shell.execute_reply": "2020-12-24T10:39:08.118912Z"
    },
    "papermill": {
     "duration": 0.06885,
     "end_time": "2020-12-24T10:39:08.119745",
     "exception": false,
     "start_time": "2020-12-24T10:39:08.050895",
     "status": "completed"
    },
    "tags": []
   },
   "outputs": [],
   "source": [
    "percent_nan = percent_missing(df)"
   ]
  },
  {
   "cell_type": "code",
   "execution_count": 15,
   "metadata": {
    "execution": {
     "iopub.execute_input": "2020-12-24T10:39:08.240908Z",
     "iopub.status.busy": "2020-12-24T10:39:08.234033Z",
     "iopub.status.idle": "2020-12-24T10:39:08.479096Z",
     "shell.execute_reply": "2020-12-24T10:39:08.478131Z"
    },
    "papermill": {
     "duration": 0.311697,
     "end_time": "2020-12-24T10:39:08.479266",
     "exception": false,
     "start_time": "2020-12-24T10:39:08.167569",
     "status": "completed"
    },
    "tags": []
   },
   "outputs": [
    {
     "data": {
      "image/png": "[encoded data removed]",
      "text/plain": [
       "<Figure size 432x288 with 1 Axes>"
      ]
     },
     "metadata": {
      "needs_background": "light"
     },
     "output_type": "display_data"
    }
   ],
   "source": [
    "sns.barplot(x=percent_nan.index,y=percent_nan)\n",
    "plt.xticks(rotation=90);"
   ]
  },
  {
   "cell_type": "code",
   "execution_count": 16,
   "metadata": {
    "execution": {
     "iopub.execute_input": "2020-12-24T10:39:08.595129Z",
     "iopub.status.busy": "2020-12-24T10:39:08.592111Z",
     "iopub.status.idle": "2020-12-24T10:39:08.598992Z",
     "shell.execute_reply": "2020-12-24T10:39:08.598262Z"
    },
    "papermill": {
     "duration": 0.069195,
     "end_time": "2020-12-24T10:39:08.599148",
     "exception": false,
     "start_time": "2020-12-24T10:39:08.529953",
     "status": "completed"
    },
    "tags": []
   },
   "outputs": [],
   "source": [
    "str_cols = ['GarageType', 'GarageFinish', 'GarageQual', 'GarageCond', 'BsmtQual','BsmtCond','BsmtFinType1','BsmtFinType2','BsmtExposure']\n",
    "df[str_cols] = df[str_cols].fillna('None')"
   ]
  },
  {
   "cell_type": "code",
   "execution_count": 17,
   "metadata": {
    "execution": {
     "iopub.execute_input": "2020-12-24T10:39:08.707766Z",
     "iopub.status.busy": "2020-12-24T10:39:08.706661Z",
     "iopub.status.idle": "2020-12-24T10:39:08.710542Z",
     "shell.execute_reply": "2020-12-24T10:39:08.709714Z"
    },
    "papermill": {
     "duration": 0.060918,
     "end_time": "2020-12-24T10:39:08.710700",
     "exception": false,
     "start_time": "2020-12-24T10:39:08.649782",
     "status": "completed"
    },
    "tags": []
   },
   "outputs": [],
   "source": [
    "df['GarageYrBlt'] = df['GarageYrBlt'].fillna(0)"
   ]
  },
  {
   "cell_type": "code",
   "execution_count": 18,
   "metadata": {
    "execution": {
     "iopub.execute_input": "2020-12-24T10:39:08.822774Z",
     "iopub.status.busy": "2020-12-24T10:39:08.821844Z",
     "iopub.status.idle": "2020-12-24T10:39:08.830181Z",
     "shell.execute_reply": "2020-12-24T10:39:08.829326Z"
    },
    "papermill": {
     "duration": 0.070281,
     "end_time": "2020-12-24T10:39:08.830327",
     "exception": false,
     "start_time": "2020-12-24T10:39:08.760046",
     "status": "completed"
    },
    "tags": []
   },
   "outputs": [],
   "source": [
    "percent_nan = percent_missing(df)"
   ]
  },
  {
   "cell_type": "code",
   "execution_count": 19,
   "metadata": {
    "execution": {
     "iopub.execute_input": "2020-12-24T10:39:08.949605Z",
     "iopub.status.busy": "2020-12-24T10:39:08.948708Z",
     "iopub.status.idle": "2020-12-24T10:39:09.099977Z",
     "shell.execute_reply": "2020-12-24T10:39:09.099212Z"
    },
    "papermill": {
     "duration": 0.219175,
     "end_time": "2020-12-24T10:39:09.100121",
     "exception": false,
     "start_time": "2020-12-24T10:39:08.880946",
     "status": "completed"
    },
    "tags": []
   },
   "outputs": [
    {
     "data": {
      "image/png": "[encoded data removed]",
      "text/plain": [
       "<Figure size 432x288 with 1 Axes>"
      ]
     },
     "metadata": {
      "needs_background": "light"
     },
     "output_type": "display_data"
    }
   ],
   "source": [
    "sns.barplot(x=percent_nan.index,y=percent_nan)\n",
    "plt.xticks(rotation=90);"
   ]
  },
  {
   "cell_type": "code",
   "execution_count": 20,
   "metadata": {
    "execution": {
     "iopub.execute_input": "2020-12-24T10:39:09.211466Z",
     "iopub.status.busy": "2020-12-24T10:39:09.210332Z",
     "iopub.status.idle": "2020-12-24T10:39:09.215618Z",
     "shell.execute_reply": "2020-12-24T10:39:09.214975Z"
    },
    "papermill": {
     "duration": 0.064897,
     "end_time": "2020-12-24T10:39:09.215772",
     "exception": false,
     "start_time": "2020-12-24T10:39:09.150875",
     "status": "completed"
    },
    "tags": []
   },
   "outputs": [
    {
     "data": {
      "text/plain": [
       "Index(['LotFrontage', 'FireplaceQu', 'Fence', 'Alley', 'MiscFeature',\n",
       "       'PoolQC'],\n",
       "      dtype='object')"
      ]
     },
     "execution_count": 20,
     "metadata": {},
     "output_type": "execute_result"
    }
   ],
   "source": [
    "percent_nan.index"
   ]
  },
  {
   "cell_type": "code",
   "execution_count": 21,
   "metadata": {
    "execution": {
     "iopub.execute_input": "2020-12-24T10:39:09.343830Z",
     "iopub.status.busy": "2020-12-24T10:39:09.342790Z",
     "iopub.status.idle": "2020-12-24T10:39:09.348109Z",
     "shell.execute_reply": "2020-12-24T10:39:09.347333Z"
    },
    "papermill": {
     "duration": 0.081086,
     "end_time": "2020-12-24T10:39:09.348261",
     "exception": false,
     "start_time": "2020-12-24T10:39:09.267175",
     "status": "completed"
    },
    "tags": []
   },
   "outputs": [
    {
     "data": {
      "text/html": [
       "<div>\n",
       "<style scoped>\n",
       "    .dataframe tbody tr th:only-of-type {\n",
       "        vertical-align: middle;\n",
       "    }\n",
       "\n",
       "    .dataframe tbody tr th {\n",
       "        vertical-align: top;\n",
       "    }\n",
       "\n",
       "    .dataframe thead th {\n",
       "        text-align: right;\n",
       "    }\n",
       "</style>\n",
       "<table border=\"1\" class=\"dataframe\">\n",
       "  <thead>\n",
       "    <tr style=\"text-align: right;\">\n",
       "      <th></th>\n",
       "      <th>LotFrontage</th>\n",
       "      <th>FireplaceQu</th>\n",
       "      <th>Fence</th>\n",
       "      <th>Alley</th>\n",
       "      <th>MiscFeature</th>\n",
       "      <th>PoolQC</th>\n",
       "    </tr>\n",
       "  </thead>\n",
       "  <tbody>\n",
       "    <tr>\n",
       "      <th>0</th>\n",
       "      <td>65.0</td>\n",
       "      <td>NaN</td>\n",
       "      <td>NaN</td>\n",
       "      <td>NaN</td>\n",
       "      <td>NaN</td>\n",
       "      <td>NaN</td>\n",
       "    </tr>\n",
       "    <tr>\n",
       "      <th>1</th>\n",
       "      <td>80.0</td>\n",
       "      <td>TA</td>\n",
       "      <td>NaN</td>\n",
       "      <td>NaN</td>\n",
       "      <td>NaN</td>\n",
       "      <td>NaN</td>\n",
       "    </tr>\n",
       "    <tr>\n",
       "      <th>2</th>\n",
       "      <td>68.0</td>\n",
       "      <td>TA</td>\n",
       "      <td>NaN</td>\n",
       "      <td>NaN</td>\n",
       "      <td>NaN</td>\n",
       "      <td>NaN</td>\n",
       "    </tr>\n",
       "    <tr>\n",
       "      <th>3</th>\n",
       "      <td>60.0</td>\n",
       "      <td>Gd</td>\n",
       "      <td>NaN</td>\n",
       "      <td>NaN</td>\n",
       "      <td>NaN</td>\n",
       "      <td>NaN</td>\n",
       "    </tr>\n",
       "    <tr>\n",
       "      <th>4</th>\n",
       "      <td>84.0</td>\n",
       "      <td>TA</td>\n",
       "      <td>NaN</td>\n",
       "      <td>NaN</td>\n",
       "      <td>NaN</td>\n",
       "      <td>NaN</td>\n",
       "    </tr>\n",
       "    <tr>\n",
       "      <th>...</th>\n",
       "      <td>...</td>\n",
       "      <td>...</td>\n",
       "      <td>...</td>\n",
       "      <td>...</td>\n",
       "      <td>...</td>\n",
       "      <td>...</td>\n",
       "    </tr>\n",
       "    <tr>\n",
       "      <th>1455</th>\n",
       "      <td>62.0</td>\n",
       "      <td>TA</td>\n",
       "      <td>NaN</td>\n",
       "      <td>NaN</td>\n",
       "      <td>NaN</td>\n",
       "      <td>NaN</td>\n",
       "    </tr>\n",
       "    <tr>\n",
       "      <th>1456</th>\n",
       "      <td>85.0</td>\n",
       "      <td>TA</td>\n",
       "      <td>MnPrv</td>\n",
       "      <td>NaN</td>\n",
       "      <td>NaN</td>\n",
       "      <td>NaN</td>\n",
       "    </tr>\n",
       "    <tr>\n",
       "      <th>1457</th>\n",
       "      <td>66.0</td>\n",
       "      <td>Gd</td>\n",
       "      <td>GdPrv</td>\n",
       "      <td>NaN</td>\n",
       "      <td>Shed</td>\n",
       "      <td>NaN</td>\n",
       "    </tr>\n",
       "    <tr>\n",
       "      <th>1458</th>\n",
       "      <td>68.0</td>\n",
       "      <td>NaN</td>\n",
       "      <td>NaN</td>\n",
       "      <td>NaN</td>\n",
       "      <td>NaN</td>\n",
       "      <td>NaN</td>\n",
       "    </tr>\n",
       "    <tr>\n",
       "      <th>1459</th>\n",
       "      <td>75.0</td>\n",
       "      <td>NaN</td>\n",
       "      <td>NaN</td>\n",
       "      <td>NaN</td>\n",
       "      <td>NaN</td>\n",
       "      <td>NaN</td>\n",
       "    </tr>\n",
       "  </tbody>\n",
       "</table>\n",
       "<p>1460 rows × 6 columns</p>\n",
       "</div>"
      ],
      "text/plain": [
       "      LotFrontage FireplaceQu  Fence Alley MiscFeature PoolQC\n",
       "0            65.0         NaN    NaN   NaN         NaN    NaN\n",
       "1            80.0          TA    NaN   NaN         NaN    NaN\n",
       "2            68.0          TA    NaN   NaN         NaN    NaN\n",
       "3            60.0          Gd    NaN   NaN         NaN    NaN\n",
       "4            84.0          TA    NaN   NaN         NaN    NaN\n",
       "...           ...         ...    ...   ...         ...    ...\n",
       "1455         62.0          TA    NaN   NaN         NaN    NaN\n",
       "1456         85.0          TA  MnPrv   NaN         NaN    NaN\n",
       "1457         66.0          Gd  GdPrv   NaN        Shed    NaN\n",
       "1458         68.0         NaN    NaN   NaN         NaN    NaN\n",
       "1459         75.0         NaN    NaN   NaN         NaN    NaN\n",
       "\n",
       "[1460 rows x 6 columns]"
      ]
     },
     "execution_count": 21,
     "metadata": {},
     "output_type": "execute_result"
    }
   ],
   "source": [
    "df[['LotFrontage', 'FireplaceQu', 'Fence', 'Alley', 'MiscFeature',\n",
    "       'PoolQC']]"
   ]
  },
  {
   "cell_type": "code",
   "execution_count": 22,
   "metadata": {
    "execution": {
     "iopub.execute_input": "2020-12-24T10:39:09.464779Z",
     "iopub.status.busy": "2020-12-24T10:39:09.463420Z",
     "iopub.status.idle": "2020-12-24T10:39:09.467165Z",
     "shell.execute_reply": "2020-12-24T10:39:09.466449Z"
    },
    "papermill": {
     "duration": 0.066304,
     "end_time": "2020-12-24T10:39:09.467310",
     "exception": false,
     "start_time": "2020-12-24T10:39:09.401006",
     "status": "completed"
    },
    "tags": []
   },
   "outputs": [],
   "source": [
    "df.drop(['Fence', 'Alley', 'MiscFeature',\n",
    "       'PoolQC'], axis=1, inplace=True)"
   ]
  },
  {
   "cell_type": "code",
   "execution_count": 23,
   "metadata": {
    "execution": {
     "iopub.execute_input": "2020-12-24T10:39:09.587681Z",
     "iopub.status.busy": "2020-12-24T10:39:09.586871Z",
     "iopub.status.idle": "2020-12-24T10:39:09.832864Z",
     "shell.execute_reply": "2020-12-24T10:39:09.832234Z"
    },
    "papermill": {
     "duration": 0.313594,
     "end_time": "2020-12-24T10:39:09.833017",
     "exception": false,
     "start_time": "2020-12-24T10:39:09.519423",
     "status": "completed"
    },
    "tags": []
   },
   "outputs": [
    {
     "data": {
      "image/png": "[encoded data removed]",
      "text/plain": [
       "<Figure size 432x288 with 1 Axes>"
      ]
     },
     "metadata": {
      "needs_background": "light"
     },
     "output_type": "display_data"
    }
   ],
   "source": [
    "percent_nan = percent_missing(df)\n",
    "sns.barplot(x=percent_nan.index,y=percent_nan)\n",
    "plt.xticks(rotation=90);"
   ]
  },
  {
   "cell_type": "code",
   "execution_count": 24,
   "metadata": {
    "execution": {
     "iopub.execute_input": "2020-12-24T10:39:09.948391Z",
     "iopub.status.busy": "2020-12-24T10:39:09.947595Z",
     "iopub.status.idle": "2020-12-24T10:39:09.951459Z",
     "shell.execute_reply": "2020-12-24T10:39:09.950835Z"
    },
    "papermill": {
     "duration": 0.065331,
     "end_time": "2020-12-24T10:39:09.951598",
     "exception": false,
     "start_time": "2020-12-24T10:39:09.886267",
     "status": "completed"
    },
    "tags": []
   },
   "outputs": [],
   "source": [
    "df['FireplaceQu'] = df['FireplaceQu'].fillna('None')"
   ]
  },
  {
   "cell_type": "code",
   "execution_count": 25,
   "metadata": {
    "execution": {
     "iopub.execute_input": "2020-12-24T10:39:10.073012Z",
     "iopub.status.busy": "2020-12-24T10:39:10.072125Z",
     "iopub.status.idle": "2020-12-24T10:39:10.200103Z",
     "shell.execute_reply": "2020-12-24T10:39:10.199422Z"
    },
    "papermill": {
     "duration": 0.194164,
     "end_time": "2020-12-24T10:39:10.200238",
     "exception": false,
     "start_time": "2020-12-24T10:39:10.006074",
     "status": "completed"
    },
    "tags": []
   },
   "outputs": [
    {
     "data": {
      "image/png": "[encoded data removed]",
      "text/plain": [
       "<Figure size 432x288 with 1 Axes>"
      ]
     },
     "metadata": {
      "needs_background": "light"
     },
     "output_type": "display_data"
    }
   ],
   "source": [
    "percent_nan = percent_missing(df)\n",
    "sns.barplot(x=percent_nan.index,y=percent_nan)\n",
    "plt.xticks(rotation=90);"
   ]
  },
  {
   "cell_type": "code",
   "execution_count": 26,
   "metadata": {
    "execution": {
     "iopub.execute_input": "2020-12-24T10:39:10.320432Z",
     "iopub.status.busy": "2020-12-24T10:39:10.319486Z",
     "iopub.status.idle": "2020-12-24T10:39:10.324426Z",
     "shell.execute_reply": "2020-12-24T10:39:10.323777Z"
    },
    "papermill": {
     "duration": 0.068873,
     "end_time": "2020-12-24T10:39:10.324568",
     "exception": false,
     "start_time": "2020-12-24T10:39:10.255695",
     "status": "completed"
    },
    "tags": []
   },
   "outputs": [
    {
     "data": {
      "text/plain": [
       "array(['CollgCr', 'Veenker', 'Crawfor', 'NoRidge', 'Mitchel', 'Somerst',\n",
       "       'NWAmes', 'OldTown', 'BrkSide', 'Sawyer', 'NridgHt', 'NAmes',\n",
       "       'SawyerW', 'IDOTRR', 'MeadowV', 'Edwards', 'Timber', 'Gilbert',\n",
       "       'StoneBr', 'ClearCr', 'NPkVill', 'Blmngtn', 'BrDale', 'SWISU',\n",
       "       'Blueste'], dtype=object)"
      ]
     },
     "execution_count": 26,
     "metadata": {},
     "output_type": "execute_result"
    }
   ],
   "source": [
    "df['Neighborhood'].unique()"
   ]
  },
  {
   "cell_type": "code",
   "execution_count": 27,
   "metadata": {
    "execution": {
     "iopub.execute_input": "2020-12-24T10:39:10.442127Z",
     "iopub.status.busy": "2020-12-24T10:39:10.440473Z",
     "iopub.status.idle": "2020-12-24T10:39:11.046753Z",
     "shell.execute_reply": "2020-12-24T10:39:11.047395Z"
    },
    "papermill": {
     "duration": 0.667686,
     "end_time": "2020-12-24T10:39:11.047581",
     "exception": false,
     "start_time": "2020-12-24T10:39:10.379895",
     "status": "completed"
    },
    "tags": []
   },
   "outputs": [
    {
     "data": {
      "text/plain": [
       "<matplotlib.axes._subplots.AxesSubplot at 0x7f148c1d9e90>"
      ]
     },
     "execution_count": 27,
     "metadata": {},
     "output_type": "execute_result"
    },
    {
     "data": {
      "image/png": "[encoded data removed]",
      "text/plain": [
       "<Figure size 576x864 with 1 Axes>"
      ]
     },
     "metadata": {
      "needs_background": "light"
     },
     "output_type": "display_data"
    }
   ],
   "source": [
    "plt.figure(figsize=(8,12))\n",
    "sns.boxplot(x='LotFrontage',y='Neighborhood',data=df,orient='h')"
   ]
  },
  {
   "cell_type": "code",
   "execution_count": 28,
   "metadata": {
    "execution": {
     "iopub.execute_input": "2020-12-24T10:39:11.201281Z",
     "iopub.status.busy": "2020-12-24T10:39:11.182372Z",
     "iopub.status.idle": "2020-12-24T10:39:11.223324Z",
     "shell.execute_reply": "2020-12-24T10:39:11.222507Z"
    },
    "papermill": {
     "duration": 0.118356,
     "end_time": "2020-12-24T10:39:11.223499",
     "exception": false,
     "start_time": "2020-12-24T10:39:11.105143",
     "status": "completed"
    },
    "tags": []
   },
   "outputs": [
    {
     "data": {
      "text/html": [
       "<div>\n",
       "<style scoped>\n",
       "    .dataframe tbody tr th:only-of-type {\n",
       "        vertical-align: middle;\n",
       "    }\n",
       "\n",
       "    .dataframe tbody tr th {\n",
       "        vertical-align: top;\n",
       "    }\n",
       "\n",
       "    .dataframe thead th {\n",
       "        text-align: right;\n",
       "    }\n",
       "</style>\n",
       "<table border=\"1\" class=\"dataframe\">\n",
       "  <thead>\n",
       "    <tr style=\"text-align: right;\">\n",
       "      <th></th>\n",
       "      <th>Id</th>\n",
       "      <th>MSSubClass</th>\n",
       "      <th>MSZoning</th>\n",
       "      <th>LotFrontage</th>\n",
       "      <th>LotArea</th>\n",
       "      <th>Street</th>\n",
       "      <th>LotShape</th>\n",
       "      <th>LandContour</th>\n",
       "      <th>Utilities</th>\n",
       "      <th>LotConfig</th>\n",
       "      <th>...</th>\n",
       "      <th>EnclosedPorch</th>\n",
       "      <th>3SsnPorch</th>\n",
       "      <th>ScreenPorch</th>\n",
       "      <th>PoolArea</th>\n",
       "      <th>MiscVal</th>\n",
       "      <th>MoSold</th>\n",
       "      <th>YrSold</th>\n",
       "      <th>SaleType</th>\n",
       "      <th>SaleCondition</th>\n",
       "      <th>SalePrice</th>\n",
       "    </tr>\n",
       "  </thead>\n",
       "  <tbody>\n",
       "    <tr>\n",
       "      <th>7</th>\n",
       "      <td>8</td>\n",
       "      <td>60</td>\n",
       "      <td>RL</td>\n",
       "      <td>NaN</td>\n",
       "      <td>10382</td>\n",
       "      <td>Pave</td>\n",
       "      <td>IR1</td>\n",
       "      <td>Lvl</td>\n",
       "      <td>AllPub</td>\n",
       "      <td>Corner</td>\n",
       "      <td>...</td>\n",
       "      <td>228</td>\n",
       "      <td>0</td>\n",
       "      <td>0</td>\n",
       "      <td>0</td>\n",
       "      <td>350</td>\n",
       "      <td>11</td>\n",
       "      <td>2009</td>\n",
       "      <td>WD</td>\n",
       "      <td>Normal</td>\n",
       "      <td>200000</td>\n",
       "    </tr>\n",
       "    <tr>\n",
       "      <th>12</th>\n",
       "      <td>13</td>\n",
       "      <td>20</td>\n",
       "      <td>RL</td>\n",
       "      <td>NaN</td>\n",
       "      <td>12968</td>\n",
       "      <td>Pave</td>\n",
       "      <td>IR2</td>\n",
       "      <td>Lvl</td>\n",
       "      <td>AllPub</td>\n",
       "      <td>Inside</td>\n",
       "      <td>...</td>\n",
       "      <td>0</td>\n",
       "      <td>0</td>\n",
       "      <td>176</td>\n",
       "      <td>0</td>\n",
       "      <td>0</td>\n",
       "      <td>9</td>\n",
       "      <td>2008</td>\n",
       "      <td>WD</td>\n",
       "      <td>Normal</td>\n",
       "      <td>144000</td>\n",
       "    </tr>\n",
       "    <tr>\n",
       "      <th>14</th>\n",
       "      <td>15</td>\n",
       "      <td>20</td>\n",
       "      <td>RL</td>\n",
       "      <td>NaN</td>\n",
       "      <td>10920</td>\n",
       "      <td>Pave</td>\n",
       "      <td>IR1</td>\n",
       "      <td>Lvl</td>\n",
       "      <td>AllPub</td>\n",
       "      <td>Corner</td>\n",
       "      <td>...</td>\n",
       "      <td>176</td>\n",
       "      <td>0</td>\n",
       "      <td>0</td>\n",
       "      <td>0</td>\n",
       "      <td>0</td>\n",
       "      <td>5</td>\n",
       "      <td>2008</td>\n",
       "      <td>WD</td>\n",
       "      <td>Normal</td>\n",
       "      <td>157000</td>\n",
       "    </tr>\n",
       "    <tr>\n",
       "      <th>16</th>\n",
       "      <td>17</td>\n",
       "      <td>20</td>\n",
       "      <td>RL</td>\n",
       "      <td>NaN</td>\n",
       "      <td>11241</td>\n",
       "      <td>Pave</td>\n",
       "      <td>IR1</td>\n",
       "      <td>Lvl</td>\n",
       "      <td>AllPub</td>\n",
       "      <td>CulDSac</td>\n",
       "      <td>...</td>\n",
       "      <td>0</td>\n",
       "      <td>0</td>\n",
       "      <td>0</td>\n",
       "      <td>0</td>\n",
       "      <td>700</td>\n",
       "      <td>3</td>\n",
       "      <td>2010</td>\n",
       "      <td>WD</td>\n",
       "      <td>Normal</td>\n",
       "      <td>149000</td>\n",
       "    </tr>\n",
       "    <tr>\n",
       "      <th>24</th>\n",
       "      <td>25</td>\n",
       "      <td>20</td>\n",
       "      <td>RL</td>\n",
       "      <td>NaN</td>\n",
       "      <td>8246</td>\n",
       "      <td>Pave</td>\n",
       "      <td>IR1</td>\n",
       "      <td>Lvl</td>\n",
       "      <td>AllPub</td>\n",
       "      <td>Inside</td>\n",
       "      <td>...</td>\n",
       "      <td>0</td>\n",
       "      <td>0</td>\n",
       "      <td>0</td>\n",
       "      <td>0</td>\n",
       "      <td>0</td>\n",
       "      <td>5</td>\n",
       "      <td>2010</td>\n",
       "      <td>WD</td>\n",
       "      <td>Normal</td>\n",
       "      <td>154000</td>\n",
       "    </tr>\n",
       "    <tr>\n",
       "      <th>...</th>\n",
       "      <td>...</td>\n",
       "      <td>...</td>\n",
       "      <td>...</td>\n",
       "      <td>...</td>\n",
       "      <td>...</td>\n",
       "      <td>...</td>\n",
       "      <td>...</td>\n",
       "      <td>...</td>\n",
       "      <td>...</td>\n",
       "      <td>...</td>\n",
       "      <td>...</td>\n",
       "      <td>...</td>\n",
       "      <td>...</td>\n",
       "      <td>...</td>\n",
       "      <td>...</td>\n",
       "      <td>...</td>\n",
       "      <td>...</td>\n",
       "      <td>...</td>\n",
       "      <td>...</td>\n",
       "      <td>...</td>\n",
       "      <td>...</td>\n",
       "    </tr>\n",
       "    <tr>\n",
       "      <th>1429</th>\n",
       "      <td>1430</td>\n",
       "      <td>20</td>\n",
       "      <td>RL</td>\n",
       "      <td>NaN</td>\n",
       "      <td>12546</td>\n",
       "      <td>Pave</td>\n",
       "      <td>IR1</td>\n",
       "      <td>Lvl</td>\n",
       "      <td>AllPub</td>\n",
       "      <td>Corner</td>\n",
       "      <td>...</td>\n",
       "      <td>99</td>\n",
       "      <td>0</td>\n",
       "      <td>0</td>\n",
       "      <td>0</td>\n",
       "      <td>0</td>\n",
       "      <td>4</td>\n",
       "      <td>2007</td>\n",
       "      <td>WD</td>\n",
       "      <td>Normal</td>\n",
       "      <td>182900</td>\n",
       "    </tr>\n",
       "    <tr>\n",
       "      <th>1431</th>\n",
       "      <td>1432</td>\n",
       "      <td>120</td>\n",
       "      <td>RL</td>\n",
       "      <td>NaN</td>\n",
       "      <td>4928</td>\n",
       "      <td>Pave</td>\n",
       "      <td>IR1</td>\n",
       "      <td>Lvl</td>\n",
       "      <td>AllPub</td>\n",
       "      <td>Inside</td>\n",
       "      <td>...</td>\n",
       "      <td>0</td>\n",
       "      <td>0</td>\n",
       "      <td>0</td>\n",
       "      <td>0</td>\n",
       "      <td>0</td>\n",
       "      <td>10</td>\n",
       "      <td>2009</td>\n",
       "      <td>WD</td>\n",
       "      <td>Normal</td>\n",
       "      <td>143750</td>\n",
       "    </tr>\n",
       "    <tr>\n",
       "      <th>1441</th>\n",
       "      <td>1442</td>\n",
       "      <td>120</td>\n",
       "      <td>RM</td>\n",
       "      <td>NaN</td>\n",
       "      <td>4426</td>\n",
       "      <td>Pave</td>\n",
       "      <td>Reg</td>\n",
       "      <td>Lvl</td>\n",
       "      <td>AllPub</td>\n",
       "      <td>Inside</td>\n",
       "      <td>...</td>\n",
       "      <td>0</td>\n",
       "      <td>0</td>\n",
       "      <td>0</td>\n",
       "      <td>0</td>\n",
       "      <td>0</td>\n",
       "      <td>5</td>\n",
       "      <td>2008</td>\n",
       "      <td>WD</td>\n",
       "      <td>Normal</td>\n",
       "      <td>149300</td>\n",
       "    </tr>\n",
       "    <tr>\n",
       "      <th>1443</th>\n",
       "      <td>1444</td>\n",
       "      <td>30</td>\n",
       "      <td>RL</td>\n",
       "      <td>NaN</td>\n",
       "      <td>8854</td>\n",
       "      <td>Pave</td>\n",
       "      <td>Reg</td>\n",
       "      <td>Lvl</td>\n",
       "      <td>AllPub</td>\n",
       "      <td>Inside</td>\n",
       "      <td>...</td>\n",
       "      <td>0</td>\n",
       "      <td>0</td>\n",
       "      <td>40</td>\n",
       "      <td>0</td>\n",
       "      <td>0</td>\n",
       "      <td>5</td>\n",
       "      <td>2009</td>\n",
       "      <td>WD</td>\n",
       "      <td>Normal</td>\n",
       "      <td>121000</td>\n",
       "    </tr>\n",
       "    <tr>\n",
       "      <th>1446</th>\n",
       "      <td>1447</td>\n",
       "      <td>20</td>\n",
       "      <td>RL</td>\n",
       "      <td>NaN</td>\n",
       "      <td>26142</td>\n",
       "      <td>Pave</td>\n",
       "      <td>IR1</td>\n",
       "      <td>Lvl</td>\n",
       "      <td>AllPub</td>\n",
       "      <td>CulDSac</td>\n",
       "      <td>...</td>\n",
       "      <td>0</td>\n",
       "      <td>0</td>\n",
       "      <td>0</td>\n",
       "      <td>0</td>\n",
       "      <td>0</td>\n",
       "      <td>4</td>\n",
       "      <td>2010</td>\n",
       "      <td>WD</td>\n",
       "      <td>Normal</td>\n",
       "      <td>157900</td>\n",
       "    </tr>\n",
       "  </tbody>\n",
       "</table>\n",
       "<p>259 rows × 77 columns</p>\n",
       "</div>"
      ],
      "text/plain": [
       "        Id  MSSubClass MSZoning  LotFrontage  LotArea Street LotShape  \\\n",
       "7        8          60       RL          NaN    10382   Pave      IR1   \n",
       "12      13          20       RL          NaN    12968   Pave      IR2   \n",
       "14      15          20       RL          NaN    10920   Pave      IR1   \n",
       "16      17          20       RL          NaN    11241   Pave      IR1   \n",
       "24      25          20       RL          NaN     8246   Pave      IR1   \n",
       "...    ...         ...      ...          ...      ...    ...      ...   \n",
       "1429  1430          20       RL          NaN    12546   Pave      IR1   \n",
       "1431  1432         120       RL          NaN     4928   Pave      IR1   \n",
       "1441  1442         120       RM          NaN     4426   Pave      Reg   \n",
       "1443  1444          30       RL          NaN     8854   Pave      Reg   \n",
       "1446  1447          20       RL          NaN    26142   Pave      IR1   \n",
       "\n",
       "     LandContour Utilities LotConfig  ... EnclosedPorch 3SsnPorch ScreenPorch  \\\n",
       "7            Lvl    AllPub    Corner  ...           228         0           0   \n",
       "12           Lvl    AllPub    Inside  ...             0         0         176   \n",
       "14           Lvl    AllPub    Corner  ...           176         0           0   \n",
       "16           Lvl    AllPub   CulDSac  ...             0         0           0   \n",
       "24           Lvl    AllPub    Inside  ...             0         0           0   \n",
       "...          ...       ...       ...  ...           ...       ...         ...   \n",
       "1429         Lvl    AllPub    Corner  ...            99         0           0   \n",
       "1431         Lvl    AllPub    Inside  ...             0         0           0   \n",
       "1441         Lvl    AllPub    Inside  ...             0         0           0   \n",
       "1443         Lvl    AllPub    Inside  ...             0         0          40   \n",
       "1446         Lvl    AllPub   CulDSac  ...             0         0           0   \n",
       "\n",
       "     PoolArea MiscVal MoSold  YrSold  SaleType  SaleCondition  SalePrice  \n",
       "7           0     350     11    2009        WD         Normal     200000  \n",
       "12          0       0      9    2008        WD         Normal     144000  \n",
       "14          0       0      5    2008        WD         Normal     157000  \n",
       "16          0     700      3    2010        WD         Normal     149000  \n",
       "24          0       0      5    2010        WD         Normal     154000  \n",
       "...       ...     ...    ...     ...       ...            ...        ...  \n",
       "1429        0       0      4    2007        WD         Normal     182900  \n",
       "1431        0       0     10    2009        WD         Normal     143750  \n",
       "1441        0       0      5    2008        WD         Normal     149300  \n",
       "1443        0       0      5    2009        WD         Normal     121000  \n",
       "1446        0       0      4    2010        WD         Normal     157900  \n",
       "\n",
       "[259 rows x 77 columns]"
      ]
     },
     "execution_count": 28,
     "metadata": {},
     "output_type": "execute_result"
    }
   ],
   "source": [
    "df[df['LotFrontage'].isnull()]"
   ]
  },
  {
   "cell_type": "code",
   "execution_count": 29,
   "metadata": {
    "execution": {
     "iopub.execute_input": "2020-12-24T10:39:11.351025Z",
     "iopub.status.busy": "2020-12-24T10:39:11.348555Z",
     "iopub.status.idle": "2020-12-24T10:39:11.359937Z",
     "shell.execute_reply": "2020-12-24T10:39:11.359102Z"
    },
    "papermill": {
     "duration": 0.077832,
     "end_time": "2020-12-24T10:39:11.360076",
     "exception": false,
     "start_time": "2020-12-24T10:39:11.282244",
     "status": "completed"
    },
    "tags": []
   },
   "outputs": [
    {
     "data": {
      "text/plain": [
       "Neighborhood\n",
       "Blmngtn    47.142857\n",
       "Blueste    24.000000\n",
       "BrDale     21.562500\n",
       "BrkSide    57.509804\n",
       "ClearCr    83.461538\n",
       "CollgCr    71.682540\n",
       "Crawfor    71.804878\n",
       "Edwards    68.217391\n",
       "Gilbert    79.877551\n",
       "IDOTRR     62.500000\n",
       "MeadowV    27.800000\n",
       "Mitchel    70.083333\n",
       "NAmes      76.462366\n",
       "NPkVill    32.285714\n",
       "NWAmes     81.288889\n",
       "NoRidge    91.878788\n",
       "NridgHt    81.881579\n",
       "OldTown    62.788991\n",
       "SWISU      58.913043\n",
       "Sawyer     74.437500\n",
       "SawyerW    71.500000\n",
       "Somerst    64.666667\n",
       "StoneBr    62.700000\n",
       "Timber     80.133333\n",
       "Veenker    59.714286\n",
       "Name: LotFrontage, dtype: float64"
      ]
     },
     "execution_count": 29,
     "metadata": {},
     "output_type": "execute_result"
    }
   ],
   "source": [
    "df.groupby('Neighborhood')['LotFrontage'].mean()"
   ]
  },
  {
   "cell_type": "code",
   "execution_count": 30,
   "metadata": {
    "execution": {
     "iopub.execute_input": "2020-12-24T10:39:11.489732Z",
     "iopub.status.busy": "2020-12-24T10:39:11.488983Z",
     "iopub.status.idle": "2020-12-24T10:39:11.504696Z",
     "shell.execute_reply": "2020-12-24T10:39:11.505359Z"
    },
    "papermill": {
     "duration": 0.086684,
     "end_time": "2020-12-24T10:39:11.505571",
     "exception": false,
     "start_time": "2020-12-24T10:39:11.418887",
     "status": "completed"
    },
    "tags": []
   },
   "outputs": [],
   "source": [
    "df['LotFrontage'] = df.groupby('Neighborhood')['LotFrontage'].transform(lambda val: val.fillna(val.mean()))"
   ]
  },
  {
   "cell_type": "code",
   "execution_count": 31,
   "metadata": {
    "execution": {
     "iopub.execute_input": "2020-12-24T10:39:11.637396Z",
     "iopub.status.busy": "2020-12-24T10:39:11.636552Z",
     "iopub.status.idle": "2020-12-24T10:39:11.645281Z",
     "shell.execute_reply": "2020-12-24T10:39:11.644525Z"
    },
    "papermill": {
     "duration": 0.081149,
     "end_time": "2020-12-24T10:39:11.645423",
     "exception": false,
     "start_time": "2020-12-24T10:39:11.564274",
     "status": "completed"
    },
    "tags": []
   },
   "outputs": [
    {
     "data": {
      "text/plain": [
       "Series([], dtype: float64)"
      ]
     },
     "execution_count": 31,
     "metadata": {},
     "output_type": "execute_result"
    }
   ],
   "source": [
    "percent_nan = percent_missing(df)\n",
    "percent_nan"
   ]
  },
  {
   "cell_type": "code",
   "execution_count": 32,
   "metadata": {
    "execution": {
     "iopub.execute_input": "2020-12-24T10:39:11.777909Z",
     "iopub.status.busy": "2020-12-24T10:39:11.776788Z",
     "iopub.status.idle": "2020-12-24T10:39:11.780463Z",
     "shell.execute_reply": "2020-12-24T10:39:11.779690Z"
    },
    "papermill": {
     "duration": 0.075818,
     "end_time": "2020-12-24T10:39:11.780605",
     "exception": false,
     "start_time": "2020-12-24T10:39:11.704787",
     "status": "completed"
    },
    "tags": []
   },
   "outputs": [],
   "source": [
    "df_nums = df.select_dtypes(exclude='object')\n",
    "df_objs = df.select_dtypes(include='object')"
   ]
  },
  {
   "cell_type": "code",
   "execution_count": 33,
   "metadata": {
    "execution": {
     "iopub.execute_input": "2020-12-24T10:39:11.909287Z",
     "iopub.status.busy": "2020-12-24T10:39:11.908368Z",
     "iopub.status.idle": "2020-12-24T10:39:11.954606Z",
     "shell.execute_reply": "2020-12-24T10:39:11.953750Z"
    },
    "papermill": {
     "duration": 0.114664,
     "end_time": "2020-12-24T10:39:11.954751",
     "exception": false,
     "start_time": "2020-12-24T10:39:11.840087",
     "status": "completed"
    },
    "tags": []
   },
   "outputs": [],
   "source": [
    "df_objs = pd.get_dummies(df_objs,drop_first=True)"
   ]
  },
  {
   "cell_type": "code",
   "execution_count": 34,
   "metadata": {
    "execution": {
     "iopub.execute_input": "2020-12-24T10:39:12.082675Z",
     "iopub.status.busy": "2020-12-24T10:39:12.081917Z",
     "iopub.status.idle": "2020-12-24T10:39:12.088843Z",
     "shell.execute_reply": "2020-12-24T10:39:12.088242Z"
    },
    "papermill": {
     "duration": 0.074184,
     "end_time": "2020-12-24T10:39:12.089007",
     "exception": false,
     "start_time": "2020-12-24T10:39:12.014823",
     "status": "completed"
    },
    "tags": []
   },
   "outputs": [],
   "source": [
    "final_df = pd.concat([df_nums,df_objs],axis=1)"
   ]
  },
  {
   "cell_type": "code",
   "execution_count": 35,
   "metadata": {
    "execution": {
     "iopub.execute_input": "2020-12-24T10:39:12.216539Z",
     "iopub.status.busy": "2020-12-24T10:39:12.215711Z",
     "iopub.status.idle": "2020-12-24T10:39:12.221679Z",
     "shell.execute_reply": "2020-12-24T10:39:12.221038Z"
    },
    "papermill": {
     "duration": 0.073135,
     "end_time": "2020-12-24T10:39:12.221815",
     "exception": false,
     "start_time": "2020-12-24T10:39:12.148680",
     "status": "completed"
    },
    "tags": []
   },
   "outputs": [],
   "source": [
    "X = final_df.drop('SalePrice', axis=1)\n",
    "y = final_df['SalePrice']"
   ]
  },
  {
   "cell_type": "code",
   "execution_count": 36,
   "metadata": {
    "execution": {
     "iopub.execute_input": "2020-12-24T10:39:12.348484Z",
     "iopub.status.busy": "2020-12-24T10:39:12.347718Z",
     "iopub.status.idle": "2020-12-24T10:39:12.469470Z",
     "shell.execute_reply": "2020-12-24T10:39:12.468727Z"
    },
    "papermill": {
     "duration": 0.187712,
     "end_time": "2020-12-24T10:39:12.469614",
     "exception": false,
     "start_time": "2020-12-24T10:39:12.281902",
     "status": "completed"
    },
    "tags": []
   },
   "outputs": [],
   "source": [
    "from sklearn.model_selection import train_test_split"
   ]
  },
  {
   "cell_type": "code",
   "execution_count": 37,
   "metadata": {
    "execution": {
     "iopub.execute_input": "2020-12-24T10:39:12.598148Z",
     "iopub.status.busy": "2020-12-24T10:39:12.597034Z",
     "iopub.status.idle": "2020-12-24T10:39:12.604160Z",
     "shell.execute_reply": "2020-12-24T10:39:12.603366Z"
    },
    "papermill": {
     "duration": 0.074579,
     "end_time": "2020-12-24T10:39:12.604302",
     "exception": false,
     "start_time": "2020-12-24T10:39:12.529723",
     "status": "completed"
    },
    "tags": []
   },
   "outputs": [],
   "source": [
    "X_train, X_test, y_train, y_test = train_test_split(X, y, test_size=0.1, random_state=42)"
   ]
  },
  {
   "cell_type": "code",
   "execution_count": 38,
   "metadata": {
    "execution": {
     "iopub.execute_input": "2020-12-24T10:39:12.731680Z",
     "iopub.status.busy": "2020-12-24T10:39:12.730915Z",
     "iopub.status.idle": "2020-12-24T10:39:12.734188Z",
     "shell.execute_reply": "2020-12-24T10:39:12.733490Z"
    },
    "papermill": {
     "duration": 0.069356,
     "end_time": "2020-12-24T10:39:12.734330",
     "exception": false,
     "start_time": "2020-12-24T10:39:12.664974",
     "status": "completed"
    },
    "tags": []
   },
   "outputs": [],
   "source": [
    "from sklearn.preprocessing import StandardScaler\n",
    "\n",
    "scaler = StandardScaler()"
   ]
  },
  {
   "cell_type": "code",
   "execution_count": 39,
   "metadata": {
    "execution": {
     "iopub.execute_input": "2020-12-24T10:39:12.866665Z",
     "iopub.status.busy": "2020-12-24T10:39:12.865753Z",
     "iopub.status.idle": "2020-12-24T10:39:12.899219Z",
     "shell.execute_reply": "2020-12-24T10:39:12.898555Z"
    },
    "papermill": {
     "duration": 0.104533,
     "end_time": "2020-12-24T10:39:12.899375",
     "exception": false,
     "start_time": "2020-12-24T10:39:12.794842",
     "status": "completed"
    },
    "tags": []
   },
   "outputs": [],
   "source": [
    "scaled_X_train = scaler.fit_transform(X_train)\n",
    "scaled_X_test = scaler.transform(X_test)"
   ]
  },
  {
   "cell_type": "code",
   "execution_count": 40,
   "metadata": {
    "execution": {
     "iopub.execute_input": "2020-12-24T10:39:13.028805Z",
     "iopub.status.busy": "2020-12-24T10:39:13.028009Z",
     "iopub.status.idle": "2020-12-24T10:39:13.127606Z",
     "shell.execute_reply": "2020-12-24T10:39:13.126967Z"
    },
    "papermill": {
     "duration": 0.167528,
     "end_time": "2020-12-24T10:39:13.127756",
     "exception": false,
     "start_time": "2020-12-24T10:39:12.960228",
     "status": "completed"
    },
    "tags": []
   },
   "outputs": [],
   "source": [
    "from sklearn.linear_model import ElasticNet\n",
    "basic_elastic_model = ElasticNet(max_iter=1000000)\n",
    "param_grid = { 'alpha': [100, 120, 130, 140, 200],\n",
    "                'l1_ratio': [.1, .7, .99, 1] }"
   ]
  },
  {
   "cell_type": "code",
   "execution_count": 41,
   "metadata": {
    "execution": {
     "iopub.execute_input": "2020-12-24T10:39:13.259113Z",
     "iopub.status.busy": "2020-12-24T10:39:13.258160Z",
     "iopub.status.idle": "2020-12-24T10:39:13.261561Z",
     "shell.execute_reply": "2020-12-24T10:39:13.260924Z"
    },
    "papermill": {
     "duration": 0.072042,
     "end_time": "2020-12-24T10:39:13.261706",
     "exception": false,
     "start_time": "2020-12-24T10:39:13.189664",
     "status": "completed"
    },
    "tags": []
   },
   "outputs": [],
   "source": [
    "from sklearn.model_selection import GridSearchCV\n",
    "grid_model = GridSearchCV(estimator=basic_elastic_model,\n",
    "                          param_grid=param_grid,\n",
    "                          scoring='neg_mean_squared_error',\n",
    "                          cv=5,\n",
    "                          verbose=1)"
   ]
  },
  {
   "cell_type": "code",
   "execution_count": 42,
   "metadata": {
    "execution": {
     "iopub.execute_input": "2020-12-24T10:39:13.393879Z",
     "iopub.status.busy": "2020-12-24T10:39:13.392936Z",
     "iopub.status.idle": "2020-12-24T10:39:15.735634Z",
     "shell.execute_reply": "2020-12-24T10:39:15.736238Z"
    },
    "papermill": {
     "duration": 2.41184,
     "end_time": "2020-12-24T10:39:15.736416",
     "exception": false,
     "start_time": "2020-12-24T10:39:13.324576",
     "status": "completed"
    },
    "tags": []
   },
   "outputs": [
    {
     "name": "stdout",
     "output_type": "stream",
     "text": [
      "Fitting 5 folds for each of 20 candidates, totalling 100 fits\n"
     ]
    },
    {
     "name": "stderr",
     "output_type": "stream",
     "text": [
      "[Parallel(n_jobs=1)]: Using backend SequentialBackend with 1 concurrent workers.\n",
      "[Parallel(n_jobs=1)]: Done 100 out of 100 | elapsed:    2.3s finished\n"
     ]
    },
    {
     "data": {
      "text/plain": [
       "GridSearchCV(cv=5, estimator=ElasticNet(max_iter=1000000),\n",
       "             param_grid={'alpha': [100, 120, 130, 140, 200],\n",
       "                         'l1_ratio': [0.1, 0.7, 0.99, 1]},\n",
       "             scoring='neg_mean_squared_error', verbose=1)"
      ]
     },
     "execution_count": 42,
     "metadata": {},
     "output_type": "execute_result"
    }
   ],
   "source": [
    "grid_model.fit(scaled_X_train, y_train)"
   ]
  },
  {
   "cell_type": "code",
   "execution_count": 43,
   "metadata": {
    "execution": {
     "iopub.execute_input": "2020-12-24T10:39:15.870115Z",
     "iopub.status.busy": "2020-12-24T10:39:15.868979Z",
     "iopub.status.idle": "2020-12-24T10:39:15.874085Z",
     "shell.execute_reply": "2020-12-24T10:39:15.873453Z"
    },
    "papermill": {
     "duration": 0.074884,
     "end_time": "2020-12-24T10:39:15.874230",
     "exception": false,
     "start_time": "2020-12-24T10:39:15.799346",
     "status": "completed"
    },
    "tags": []
   },
   "outputs": [
    {
     "data": {
      "text/plain": [
       "{'alpha': 100, 'l1_ratio': 0.99}"
      ]
     },
     "execution_count": 43,
     "metadata": {},
     "output_type": "execute_result"
    }
   ],
   "source": [
    "grid_model.best_params_"
   ]
  },
  {
   "cell_type": "code",
   "execution_count": 44,
   "metadata": {
    "execution": {
     "iopub.execute_input": "2020-12-24T10:39:16.011712Z",
     "iopub.status.busy": "2020-12-24T10:39:16.010565Z",
     "iopub.status.idle": "2020-12-24T10:39:16.014173Z",
     "shell.execute_reply": "2020-12-24T10:39:16.013375Z"
    },
    "papermill": {
     "duration": 0.075624,
     "end_time": "2020-12-24T10:39:16.014330",
     "exception": false,
     "start_time": "2020-12-24T10:39:15.938706",
     "status": "completed"
    },
    "tags": []
   },
   "outputs": [],
   "source": [
    "y_pred = grid_model.predict(scaled_X_test)"
   ]
  },
  {
   "cell_type": "code",
   "execution_count": 45,
   "metadata": {
    "execution": {
     "iopub.execute_input": "2020-12-24T10:39:16.152955Z",
     "iopub.status.busy": "2020-12-24T10:39:16.151798Z",
     "iopub.status.idle": "2020-12-24T10:39:16.156924Z",
     "shell.execute_reply": "2020-12-24T10:39:16.156238Z"
    },
    "papermill": {
     "duration": 0.077308,
     "end_time": "2020-12-24T10:39:16.157062",
     "exception": false,
     "start_time": "2020-12-24T10:39:16.079754",
     "status": "completed"
    },
    "tags": []
   },
   "outputs": [
    {
     "data": {
      "text/plain": [
       "40374.21265964587"
      ]
     },
     "execution_count": 45,
     "metadata": {},
     "output_type": "execute_result"
    }
   ],
   "source": [
    "from sklearn.metrics import mean_absolute_error, mean_squared_error\n",
    "np.sqrt(mean_squared_error(y_test, y_pred))"
   ]
  },
  {
   "cell_type": "code",
   "execution_count": null,
   "metadata": {
    "papermill": {
     "duration": 0.064482,
     "end_time": "2020-12-24T10:39:16.286624",
     "exception": false,
     "start_time": "2020-12-24T10:39:16.222142",
     "status": "completed"
    },
    "tags": []
   },
   "outputs": [],
   "source": []
  },
  {
   "cell_type": "code",
   "execution_count": 46,
   "metadata": {
    "execution": {
     "iopub.execute_input": "2020-12-24T10:39:16.425964Z",
     "iopub.status.busy": "2020-12-24T10:39:16.425173Z",
     "iopub.status.idle": "2020-12-24T10:39:16.472074Z",
     "shell.execute_reply": "2020-12-24T10:39:16.471245Z"
    },
    "papermill": {
     "duration": 0.120607,
     "end_time": "2020-12-24T10:39:16.472217",
     "exception": false,
     "start_time": "2020-12-24T10:39:16.351610",
     "status": "completed"
    },
    "tags": []
   },
   "outputs": [],
   "source": [
    "res_df = pd.read_csv('../input/house-prices-advanced-regression-techniques/test.csv')"
   ]
  },
  {
   "cell_type": "code",
   "execution_count": 47,
   "metadata": {
    "execution": {
     "iopub.execute_input": "2020-12-24T10:39:16.627655Z",
     "iopub.status.busy": "2020-12-24T10:39:16.618312Z",
     "iopub.status.idle": "2020-12-24T10:39:16.649789Z",
     "shell.execute_reply": "2020-12-24T10:39:16.648959Z"
    },
    "papermill": {
     "duration": 0.113078,
     "end_time": "2020-12-24T10:39:16.649950",
     "exception": false,
     "start_time": "2020-12-24T10:39:16.536872",
     "status": "completed"
    },
    "tags": []
   },
   "outputs": [],
   "source": [
    "res_df[['Electrical','MasVnrType']] = res_df[['Electrical','MasVnrType']].fillna('None')\n",
    "res_df[['MasVnrArea']] = res_df[['MasVnrArea']].fillna(0)\n",
    "\n",
    "str_cols = ['GarageType', 'GarageFinish', 'GarageQual', 'GarageCond', 'BsmtQual','BsmtCond','BsmtFinType1','BsmtFinType2','BsmtExposure']\n",
    "res_df[str_cols] = res_df[str_cols].fillna('None')\n",
    "\n",
    "res_df['GarageYrBlt'] = res_df['GarageYrBlt'].fillna(0)\n",
    "\n",
    "num_cols = ['BsmtFinSF1', 'BsmtFinSF2', 'BsmtUnfSF', 'TotalBsmtSF', 'BsmtFullBath', 'BsmtHalfBath', 'GarageCars', 'GarageArea']\n",
    "res_df[num_cols] = res_df[num_cols].fillna(0)\n",
    "\n",
    "res_df.drop(['Fence', 'Alley', 'MiscFeature','PoolQC'], axis=1, inplace=True)\n",
    "res_df['FireplaceQu'] = res_df['FireplaceQu'].fillna('None')\n",
    "\n",
    "res_df['LotFrontage'] = res_df.groupby('Neighborhood')['LotFrontage'].transform(lambda val: val.fillna(val.mean()))"
   ]
  },
  {
   "cell_type": "code",
   "execution_count": 48,
   "metadata": {
    "execution": {
     "iopub.execute_input": "2020-12-24T10:39:16.794227Z",
     "iopub.status.busy": "2020-12-24T10:39:16.792304Z",
     "iopub.status.idle": "2020-12-24T10:39:16.844111Z",
     "shell.execute_reply": "2020-12-24T10:39:16.843279Z"
    },
    "papermill": {
     "duration": 0.129286,
     "end_time": "2020-12-24T10:39:16.844254",
     "exception": false,
     "start_time": "2020-12-24T10:39:16.714968",
     "status": "completed"
    },
    "tags": []
   },
   "outputs": [],
   "source": [
    "res_df_nums = res_df.select_dtypes(exclude='object')\n",
    "res_df_objs = res_df.select_dtypes(include='object')\n",
    "res_df_objs = pd.get_dummies(res_df_objs,drop_first=True)\n",
    "res_final_df = pd.concat([res_df_nums,res_df_objs],axis=1)"
   ]
  },
  {
   "cell_type": "code",
   "execution_count": 49,
   "metadata": {
    "execution": {
     "iopub.execute_input": "2020-12-24T10:39:16.982730Z",
     "iopub.status.busy": "2020-12-24T10:39:16.981439Z",
     "iopub.status.idle": "2020-12-24T10:39:16.990652Z",
     "shell.execute_reply": "2020-12-24T10:39:16.989803Z"
    },
    "papermill": {
     "duration": 0.0814,
     "end_time": "2020-12-24T10:39:16.990801",
     "exception": false,
     "start_time": "2020-12-24T10:39:16.909401",
     "status": "completed"
    },
    "tags": []
   },
   "outputs": [],
   "source": [
    "res_final_df = res_final_df.reindex(columns = final_df.columns, fill_value=0)\n",
    "res_final_df.drop('SalePrice', axis=1, inplace=True)"
   ]
  },
  {
   "cell_type": "code",
   "execution_count": 50,
   "metadata": {
    "execution": {
     "iopub.execute_input": "2020-12-24T10:39:17.135870Z",
     "iopub.status.busy": "2020-12-24T10:39:17.134504Z",
     "iopub.status.idle": "2020-12-24T10:39:17.141386Z",
     "shell.execute_reply": "2020-12-24T10:39:17.140716Z"
    },
    "papermill": {
     "duration": 0.084417,
     "end_time": "2020-12-24T10:39:17.141537",
     "exception": false,
     "start_time": "2020-12-24T10:39:17.057120",
     "status": "completed"
    },
    "tags": []
   },
   "outputs": [],
   "source": [
    "final_pred_ = grid_model.predict(res_final_df)"
   ]
  },
  {
   "cell_type": "code",
   "execution_count": 51,
   "metadata": {
    "execution": {
     "iopub.execute_input": "2020-12-24T10:39:17.282678Z",
     "iopub.status.busy": "2020-12-24T10:39:17.281580Z",
     "iopub.status.idle": "2020-12-24T10:39:17.285384Z",
     "shell.execute_reply": "2020-12-24T10:39:17.284699Z"
    },
    "papermill": {
     "duration": 0.077534,
     "end_time": "2020-12-24T10:39:17.285530",
     "exception": false,
     "start_time": "2020-12-24T10:39:17.207996",
     "status": "completed"
    },
    "tags": []
   },
   "outputs": [],
   "source": [
    "res_final_df['SalePrice'] = final_pred_"
   ]
  },
  {
   "cell_type": "code",
   "execution_count": 52,
   "metadata": {
    "execution": {
     "iopub.execute_input": "2020-12-24T10:39:17.429604Z",
     "iopub.status.busy": "2020-12-24T10:39:17.427823Z",
     "iopub.status.idle": "2020-12-24T10:39:17.751436Z",
     "shell.execute_reply": "2020-12-24T10:39:17.750592Z"
    },
    "papermill": {
     "duration": 0.397365,
     "end_time": "2020-12-24T10:39:17.751586",
     "exception": false,
     "start_time": "2020-12-24T10:39:17.354221",
     "status": "completed"
    },
    "tags": []
   },
   "outputs": [],
   "source": [
    "pred_results = res_final_df[['Id', 'SalePrice']]\n",
    "pred_results = pred_results.set_index('Id')\n",
    "pred_results.to_csv('/kaggle/working/submission.csv')"
   ]
  }
 ],
 "metadata": {
  "kernelspec": {
   "display_name": "Python 3",
   "language": "python",
   "name": "python3"
  },
  "language_info": {
   "codemirror_mode": {
    "name": "ipython",
    "version": 3
   },
   "file_extension": ".py",
   "mimetype": "text/x-python",
   "name": "python",
   "nbconvert_exporter": "python",
   "pygments_lexer": "ipython3",
   "version": "3.7.6"
  },
  "papermill": {
   "duration": 18.684434,
   "end_time": "2020-12-24T10:39:17.927439",
   "environment_variables": {},
   "exception": null,
   "input_path": "__notebook__.ipynb",
   "output_path": "__notebook__.ipynb",
   "parameters": {},
   "start_time": "2020-12-24T10:38:59.243005",
   "version": "2.1.0"
  }
 },
 "nbformat": 4,
 "nbformat_minor": 4
}
